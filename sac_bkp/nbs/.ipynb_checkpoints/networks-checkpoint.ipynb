{
 "cells": [
  {
   "cell_type": "code",
   "execution_count": 1,
   "metadata": {},
   "outputs": [],
   "source": [
    "import sys\n",
    "sys.path.append(\"../src\")\n",
    "from plugin_write_and_run import *"
   ]
  },
  {
   "cell_type": "code",
   "execution_count": 2,
   "metadata": {},
   "outputs": [],
   "source": [
    "%%write_and_run ../src/networks.py\n",
    "import sys\n",
    "sys.path.append(\"../src\")\n",
    "from replay_buffer import *\n",
    "from config import *\n",
    "import tensorflow as tf\n",
    "from tensorflow.keras.layers import Dense\n",
    "from tensorflow.keras.initializers import random_uniform\n",
    "import tensorflow_probability as tfp"
   ]
  },
  {
   "cell_type": "code",
   "execution_count": 3,
   "metadata": {},
   "outputs": [],
   "source": [
    "standard_normal = tfp.distributions.Normal(0, 1)"
   ]
  },
  {
   "cell_type": "code",
   "execution_count": 4,
   "metadata": {},
   "outputs": [],
   "source": [
    "%%write_and_run -a ../src/networks.py\n",
    "\n",
    "class Critic(tf.keras.Model):\n",
    "    def __init__(self, name, hidden_0=CRITIC_HIDDEN_0, hidden_1=CRITIC_HIDDEN_1):\n",
    "        super(Critic, self).__init__()\n",
    "        \n",
    "        self.hidden_0 = hidden_0\n",
    "        self.hidden_1 = hidden_1\n",
    "\n",
    "        self.net_name = name\n",
    "\n",
    "        self.dense_0 = Dense(self.hidden_0, activation='relu')\n",
    "        self.dense_1 = Dense(self.hidden_1, activation='relu')\n",
    "        self.q_value = Dense(1, activation=None)\n",
    "\n",
    "    def call(self, state, action):\n",
    "        state_action_value = self.dense_0(tf.concat([state, action], axis=1))\n",
    "        state_action_value = self.dense_1(state_action_value)\n",
    "\n",
    "        q_value = self.q_value(state_action_value)\n",
    "\n",
    "        return q_value\n",
    "    \n",
    "class CriticValue(tf.keras.Model):\n",
    "    def __init__(self, name, hidden_0=CRITIC_HIDDEN_0, hidden_1=CRITIC_HIDDEN_1):\n",
    "        super(CriticValue, self).__init__()\n",
    "        \n",
    "        self.hidden_0 = hidden_0\n",
    "        self.hidden_1 = hidden_1\n",
    "\n",
    "        self.net_name = name\n",
    "\n",
    "        self.dense_0 = Dense(self.hidden_0, activation='relu')\n",
    "        self.dense_1 = Dense(self.hidden_1, activation='relu')\n",
    "        self.value = Dense(1, activation=None)\n",
    "\n",
    "    def call(self, state):\n",
    "        state_value = self.dense_0(state)\n",
    "        state_value = self.dense_1(state_value)\n",
    "\n",
    "        value = self.value(state_value)\n",
    "\n",
    "        return value\n",
    "\n",
    "class Actor(tf.keras.Model):\n",
    "    def __init__(self, name, actions_dim, upper_bound, hidden_0=CRITIC_HIDDEN_0, hidden_1=CRITIC_HIDDEN_1, noise=NOISE, log_std_min=LOG_STD_MIN, log_std_max=LOG_STD_MAX):\n",
    "        super(Actor, self).__init__()\n",
    "        self.hidden_0 = hidden_0\n",
    "        self.hidden_1 = hidden_1\n",
    "        self.actions_dim = actions_dim\n",
    "        self.upper_bound = upper_bound\n",
    "        self.log_std_min = log_std_min\n",
    "        self.log_std_max = log_std_max\n",
    "        self.noise = noise\n",
    "        \n",
    "        self.net_name = name\n",
    "\n",
    "        self.dense_0 = Dense(self.hidden_0, activation='relu')\n",
    "        self.dense_1 = Dense(self.hidden_1, activation='relu')\n",
    "        self.mean = Dense(self.actions_dim, activation=None)\n",
    "        self.log_std = Dense(self.actions_dim, activation=None)\n",
    "\n",
    "    def call(self, state):\n",
    "        x = self.dense_0(state)\n",
    "        policy = self.dense_1(x)\n",
    "        mean = self.mean(policy)\n",
    "        log_std = self.log_std(policy)\n",
    "        log_std = tf.clip_by_value(log_std, self.log_std_min, self.log_std_max)\n",
    "\n",
    "        return mean, log_std\n",
    "    \n",
    "    def evaluate(self, state, reparameterization=False):\n",
    "        mean, log_std = self.call(state)\n",
    "        std = tf.exp(log_std)\n",
    "        standard_normal = tfp.distributions.Normal(0, 1)\n",
    "        normal_mean_std = tfp.distributions.Normal(mean, std)\n",
    "        \n",
    "        if reparameterization:\n",
    "            action = tf.math.tanh(mean + std * standard_normal.sample(sample_shape=mean.shape))\n",
    "        else:\n",
    "            action = tf.math.tanh(normal_mean_std.sample())\n",
    "        \n",
    "        log_probs = normal_mean_std.log_prob(action) - tf.math.log(1 - tf.math.pow(action, 2) + self.noise)\n",
    "        log_probs = tf.math.reduce_sum(log_probs, axis=1, keepdims=True)\n",
    "        \n",
    "        return action * self.upper_bound, log_probs"
   ]
  },
  {
   "cell_type": "code",
   "execution_count": 5,
   "metadata": {},
   "outputs": [],
   "source": [
    "import gym\n",
    "import numpy as np"
   ]
  },
  {
   "cell_type": "code",
   "execution_count": 6,
   "metadata": {},
   "outputs": [],
   "source": [
    "env = gym.make(ENV_NAME)\n",
    "upper_bound = env.action_space.high[0]\n",
    "lower_bound = env.action_space.low[0]\n",
    "action_dim = env.action_space.shape[0]\n",
    "actor = Actor(\"name\", action_dim, upper_bound)\n",
    "critic = Critic(\"name\")\n",
    "critic_value = CriticValue(\"name\")"
   ]
  },
  {
   "cell_type": "code",
   "execution_count": 7,
   "metadata": {},
   "outputs": [],
   "source": [
    "env = gym.make(ENV_NAME)"
   ]
  },
  {
   "cell_type": "code",
   "execution_count": 8,
   "metadata": {},
   "outputs": [],
   "source": [
    "rb = ReplayBuffer(env)"
   ]
  },
  {
   "cell_type": "code",
   "execution_count": 9,
   "metadata": {},
   "outputs": [
    {
     "data": {
      "text/plain": [
       "array([-0.63902324, -0.76918743,  0.86220174])"
      ]
     },
     "execution_count": 9,
     "metadata": {},
     "output_type": "execute_result"
    }
   ],
   "source": [
    "env.reset()"
   ]
  },
  {
   "cell_type": "code",
   "execution_count": 10,
   "metadata": {},
   "outputs": [
    {
     "data": {
      "text/plain": [
       "Box(-2.0, 2.0, (1,), float32)"
      ]
     },
     "execution_count": 10,
     "metadata": {},
     "output_type": "execute_result"
    }
   ],
   "source": [
    "env.action_space"
   ]
  },
  {
   "cell_type": "code",
   "execution_count": 11,
   "metadata": {},
   "outputs": [],
   "source": [
    "action = np.array([-0.5])"
   ]
  },
  {
   "cell_type": "code",
   "execution_count": 12,
   "metadata": {},
   "outputs": [
    {
     "data": {
      "text/plain": [
       "-2.0"
      ]
     },
     "execution_count": 12,
     "metadata": {},
     "output_type": "execute_result"
    }
   ],
   "source": [
    "lower_bound"
   ]
  },
  {
   "cell_type": "code",
   "execution_count": 13,
   "metadata": {},
   "outputs": [],
   "source": [
    "state, reward, done, _ = env.step(action)"
   ]
  },
  {
   "cell_type": "code",
   "execution_count": 14,
   "metadata": {},
   "outputs": [],
   "source": [
    "for i in range(1000):\n",
    "    rb.add_record(state, action, reward, state, done)"
   ]
  },
  {
   "cell_type": "code",
   "execution_count": 15,
   "metadata": {},
   "outputs": [],
   "source": [
    "state, action, reward, next_state, done = rb.get_minibatch()"
   ]
  },
  {
   "cell_type": "code",
   "execution_count": 16,
   "metadata": {},
   "outputs": [
    {
     "data": {
      "text/plain": [
       "2.0"
      ]
     },
     "execution_count": 16,
     "metadata": {},
     "output_type": "execute_result"
    }
   ],
   "source": [
    "actor.upper_bound"
   ]
  },
  {
   "cell_type": "code",
   "execution_count": 17,
   "metadata": {},
   "outputs": [],
   "source": [
    "action, log_probs = actor.evaluate(state, False)"
   ]
  },
  {
   "cell_type": "code",
   "execution_count": 18,
   "metadata": {},
   "outputs": [
    {
     "data": {
      "text/plain": [
       "<tf.Tensor: shape=(64, 1), dtype=float32, numpy=\n",
       "array([[-0.93016297],\n",
       "       [-0.87399185],\n",
       "       [ 0.5622529 ],\n",
       "       [-0.07912588],\n",
       "       [-0.73927826],\n",
       "       [-0.9283955 ],\n",
       "       [-0.8197799 ],\n",
       "       [ 1.3096818 ],\n",
       "       [ 0.12989092],\n",
       "       [-0.7514427 ],\n",
       "       [ 0.21941304],\n",
       "       [-0.89378655],\n",
       "       [-0.85712874],\n",
       "       [-0.18797326],\n",
       "       [-0.9382204 ],\n",
       "       [ 0.7751658 ],\n",
       "       [ 0.4623152 ],\n",
       "       [-0.37615317],\n",
       "       [-0.82767   ],\n",
       "       [-0.28302056],\n",
       "       [-0.9386636 ],\n",
       "       [ 0.38335252],\n",
       "       [-0.6808816 ],\n",
       "       [ 1.9553834 ],\n",
       "       [-0.09767842],\n",
       "       [-0.89835256],\n",
       "       [-0.82583797],\n",
       "       [-0.28303808],\n",
       "       [ 0.06315625],\n",
       "       [-0.87687254],\n",
       "       [ 0.05845022],\n",
       "       [-0.62154895],\n",
       "       [-0.92982876],\n",
       "       [ 0.7052827 ],\n",
       "       [-0.8759372 ],\n",
       "       [-0.17257178],\n",
       "       [-0.08468437],\n",
       "       [-0.9077453 ],\n",
       "       [-0.7891208 ],\n",
       "       [ 0.10489798],\n",
       "       [-0.6896508 ],\n",
       "       [-0.8994697 ],\n",
       "       [-0.38904023],\n",
       "       [ 0.32799828],\n",
       "       [-0.03998613],\n",
       "       [-0.9182507 ],\n",
       "       [ 3.2382882 ],\n",
       "       [-0.93591195],\n",
       "       [-0.87196815],\n",
       "       [-0.8396908 ],\n",
       "       [-0.52772856],\n",
       "       [ 0.03659081],\n",
       "       [-0.9215051 ],\n",
       "       [-0.6698136 ],\n",
       "       [-0.18615949],\n",
       "       [-0.9361774 ],\n",
       "       [-0.688525  ],\n",
       "       [-0.93782586],\n",
       "       [-0.93366927],\n",
       "       [ 0.55457497],\n",
       "       [-0.7842742 ],\n",
       "       [-0.8744289 ],\n",
       "       [-0.5313332 ],\n",
       "       [-0.7994291 ]], dtype=float32)>"
      ]
     },
     "execution_count": 18,
     "metadata": {},
     "output_type": "execute_result"
    }
   ],
   "source": [
    "log_probs"
   ]
  },
  {
   "cell_type": "code",
   "execution_count": 19,
   "metadata": {},
   "outputs": [
    {
     "data": {
      "text/plain": [
       "<tf.Tensor: shape=(64, 1), dtype=float32, numpy=\n",
       "array([[ 0.00319149],\n",
       "       [-0.07036109],\n",
       "       [-0.05290864],\n",
       "       [-0.14233482],\n",
       "       [-0.09982853],\n",
       "       [ 0.00455765],\n",
       "       [ 0.00796022],\n",
       "       [-0.05818208],\n",
       "       [-0.04648896],\n",
       "       [-0.0982159 ],\n",
       "       [-0.048218  ],\n",
       "       [-0.06142227],\n",
       "       [-0.07640227],\n",
       "       [-0.1388068 ],\n",
       "       [-0.00869247],\n",
       "       [-0.15915501],\n",
       "       [-0.05177684],\n",
       "       [-0.13101643],\n",
       "       [ 0.0082804 ],\n",
       "       [-0.1351302 ],\n",
       "       [-0.01527549],\n",
       "       [-0.15331878],\n",
       "       [-0.10726266],\n",
       "       [-0.16626868],\n",
       "       [-0.1417462 ],\n",
       "       [ 0.00995772],\n",
       "       [-0.08535442],\n",
       "       [-0.13512947],\n",
       "       [-0.14643598],\n",
       "       [-0.06925236],\n",
       "       [-0.04485992],\n",
       "       [-0.01261769],\n",
       "       [-0.02714475],\n",
       "       [-0.05431669],\n",
       "       [-0.06961582],\n",
       "       [-0.13934085],\n",
       "       [-0.14215294],\n",
       "       [-0.05197422],\n",
       "       [-0.09252449],\n",
       "       [-0.14750066],\n",
       "       [-0.10625383],\n",
       "       [-0.05807236],\n",
       "       [-0.13036594],\n",
       "       [-0.1522932 ],\n",
       "       [-0.14355218],\n",
       "       [-0.04129324],\n",
       "       [-0.0614419 ],\n",
       "       [-0.02076962],\n",
       "       [-0.07112131],\n",
       "       [ 0.00873493],\n",
       "       [-0.1221393 ],\n",
       "       [-0.14572644],\n",
       "       [ 0.00682293],\n",
       "       [-0.00762906],\n",
       "       [-0.03762393],\n",
       "       [-0.02046318],\n",
       "       [-0.10638522],\n",
       "       [-0.00717036],\n",
       "       [-0.00084671],\n",
       "       [-0.15618262],\n",
       "       [-0.09333842],\n",
       "       [ 0.01007928],\n",
       "       [-0.12187532],\n",
       "       [-0.09069719]], dtype=float32)>"
      ]
     },
     "execution_count": 19,
     "metadata": {},
     "output_type": "execute_result"
    }
   ],
   "source": [
    "critic(state, action)"
   ]
  },
  {
   "cell_type": "code",
   "execution_count": 20,
   "metadata": {},
   "outputs": [
    {
     "data": {
      "text/plain": [
       "<tf.Tensor: shape=(64, 1), dtype=float32, numpy=\n",
       "array([[0.00791488],\n",
       "       [0.00791488],\n",
       "       [0.00791488],\n",
       "       [0.00791488],\n",
       "       [0.00791488],\n",
       "       [0.00791488],\n",
       "       [0.00791488],\n",
       "       [0.00791488],\n",
       "       [0.00791488],\n",
       "       [0.00791488],\n",
       "       [0.00791488],\n",
       "       [0.00791488],\n",
       "       [0.00791488],\n",
       "       [0.00791488],\n",
       "       [0.00791488],\n",
       "       [0.00791488],\n",
       "       [0.00791488],\n",
       "       [0.00791488],\n",
       "       [0.00791488],\n",
       "       [0.00791488],\n",
       "       [0.00791488],\n",
       "       [0.00791488],\n",
       "       [0.00791488],\n",
       "       [0.00791488],\n",
       "       [0.00791488],\n",
       "       [0.00791488],\n",
       "       [0.00791488],\n",
       "       [0.00791488],\n",
       "       [0.00791488],\n",
       "       [0.00791488],\n",
       "       [0.00791488],\n",
       "       [0.00791488],\n",
       "       [0.00791488],\n",
       "       [0.00791488],\n",
       "       [0.00791488],\n",
       "       [0.00791488],\n",
       "       [0.00791488],\n",
       "       [0.00791488],\n",
       "       [0.00791488],\n",
       "       [0.00791488],\n",
       "       [0.00791488],\n",
       "       [0.00791488],\n",
       "       [0.00791488],\n",
       "       [0.00791488],\n",
       "       [0.00791488],\n",
       "       [0.00791488],\n",
       "       [0.00791488],\n",
       "       [0.00791488],\n",
       "       [0.00791488],\n",
       "       [0.00791488],\n",
       "       [0.00791488],\n",
       "       [0.00791488],\n",
       "       [0.00791488],\n",
       "       [0.00791488],\n",
       "       [0.00791488],\n",
       "       [0.00791488],\n",
       "       [0.00791488],\n",
       "       [0.00791488],\n",
       "       [0.00791488],\n",
       "       [0.00791488],\n",
       "       [0.00791488],\n",
       "       [0.00791488],\n",
       "       [0.00791488],\n",
       "       [0.00791488]], dtype=float32)>"
      ]
     },
     "execution_count": 20,
     "metadata": {},
     "output_type": "execute_result"
    }
   ],
   "source": [
    "critic_value(state)"
   ]
  }
 ],
 "metadata": {
  "kernelspec": {
   "display_name": "Python 3",
   "language": "python",
   "name": "python3"
  },
  "language_info": {
   "codemirror_mode": {
    "name": "ipython",
    "version": 3
   },
   "file_extension": ".py",
   "mimetype": "text/x-python",
   "name": "python",
   "nbconvert_exporter": "python",
   "pygments_lexer": "ipython3",
   "version": "3.8.5"
  }
 },
 "nbformat": 4,
 "nbformat_minor": 4
}
