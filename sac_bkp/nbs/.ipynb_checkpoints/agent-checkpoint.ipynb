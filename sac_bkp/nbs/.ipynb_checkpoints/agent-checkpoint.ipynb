{
 "cells": [
  {
   "cell_type": "code",
   "execution_count": 1,
   "metadata": {},
   "outputs": [],
   "source": [
    "import sys\n",
    "sys.path.append(\"../src\")\n",
    "from plugin_write_and_run import *\n",
    "from tqdm import tqdm"
   ]
  },
  {
   "cell_type": "code",
   "execution_count": 2,
   "metadata": {},
   "outputs": [],
   "source": [
    "%%write_and_run ../src/agent.py\n",
    "import sys\n",
    "sys.path.append(\"../src\")\n",
    "import tensorflow as tf\n",
    "from tensorflow.keras import optimizers as opt\n",
    "import numpy as np\n",
    "import random\n",
    "import time\n",
    "from config import *\n",
    "from replay_buffer import *\n",
    "from networks import *"
   ]
  },
  {
   "cell_type": "code",
   "execution_count": 3,
   "metadata": {},
   "outputs": [
    {
     "data": {
      "text/plain": [
       "'Pendulum-v0'"
      ]
     },
     "execution_count": 3,
     "metadata": {},
     "output_type": "execute_result"
    }
   ],
   "source": [
    "ENV_NAME"
   ]
  },
  {
   "cell_type": "code",
   "execution_count": 4,
   "metadata": {},
   "outputs": [],
   "source": [
    "import gym\n",
    "env = gym.make(ENV_NAME)"
   ]
  },
  {
   "cell_type": "code",
   "execution_count": null,
   "metadata": {},
   "outputs": [],
   "source": []
  },
  {
   "cell_type": "code",
   "execution_count": 5,
   "metadata": {},
   "outputs": [],
   "source": [
    "%%write_and_run -a ../src/agent.py\n",
    "\n",
    "class Agent:\n",
    "    def __init__(self, env, actor_lr=ACTOR_LR, critic_lr=CRITIC_LR, gamma=GAMMA, max_size=BUFFER_CAPACITY, tau=TAU, reward_scale=REWARD_SCALE, path_save=PATH_SAVE, path_load=PATH_LOAD):\n",
    "        \n",
    "        self.gamma = gamma\n",
    "        self.tau = tau\n",
    "        self.replay_buffer = ReplayBuffer(env, max_size)\n",
    "        self.actions_dim = env.action_space.shape[0]\n",
    "        self.upper_bound = env.action_space.high[0]\n",
    "        self.lower_bound = env.action_space.low[0]\n",
    "        self.actor_lr = actor_lr\n",
    "        self.critic_lr = critic_lr\n",
    "        self.path_save = path_save\n",
    "        self.path_load = path_load\n",
    "        \n",
    "        self.actor = Actor(name='actor', actions_dim=self.actions_dim, upper_bound=self.upper_bound)\n",
    "        self.critic_0 = Critic(name='critic_0')\n",
    "        self.critic_1 = Critic(name='critic_1')\n",
    "        self.value_critic = CriticValue(name=\"value_critic\")\n",
    "        self.target_value_critic = CriticValue(name=\"target_value_critic\")\n",
    "\n",
    "        self.actor.compile(optimizer=opt.Adam(learning_rate=actor_lr))\n",
    "        self.critic_0.compile(optimizer=opt.Adam(learning_rate=critic_lr))\n",
    "        self.critic_1.compile(optimizer=opt.Adam(learning_rate=critic_lr))\n",
    "        self.value_critic.compile(optimizer=opt.Adam(learning_rate=critic_lr))\n",
    "        self.target_value_critic.compile(optimizer=opt.Adam(learning_rate=critic_lr))\n",
    "\n",
    "        value_critic_weights = self.value_critic.get_weights()\n",
    "        \n",
    "        self.target_value_critic.set_weights(value_critic_weights)\n",
    "        \n",
    "        self.reward_scale = reward_scale\n",
    "        \n",
    "\n",
    "    def update_target_networks(self, tau):\n",
    "        value_critic_weights = self.value_critic.weights\n",
    "        target_value_critic_weights = self.target_value_critic.weights\n",
    "        for index in range(len(value_critic_weights)):\n",
    "            target_value_critic_weights[index] = tau * value_critic_weights[index] + (1 - tau) * target_value_critic_weights[index]\n",
    "\n",
    "        self.target_value_critic.set_weights(target_value_critic_weights)\n",
    "    \n",
    "    def add_to_replay_buffer(self, state, action, reward, new_state, done):\n",
    "        self.replay_buffer.add_record(state, action, reward, new_state, done)\n",
    "    \"\"\"\n",
    "    def save(self):\n",
    "        date_now = time.strftime(\"%Y%m%d%H%M\")\n",
    "        if not os.path.isdir(f\"{self.path_save}/save_agent_{date_now}\"):\n",
    "            os.makedirs(f\"{self.path_save}/save_agent_{date_now}\")\n",
    "        self.actor.save_weights(f\"{self.path_save}/save_agent_{date_now}/{self.actor.net_name}.h5\")\n",
    "        self.target_actor.save_weights(f\"{self.path_save}/save_agent_{date_now}/{self.target_actor.net_name}.h5\")\n",
    "        self.critic.save_weights(f\"{self.path_save}/save_agent_{date_now}/{self.critic.net_name}.h5\")\n",
    "        self.target_critic.save_weights(f\"{self.path_save}/save_agent_{date_now}/{self.target_critic.net_name}.h5\")\n",
    "        \n",
    "        np.save(f\"{self.path_save}/save_agent_{date_now}/noise.npy\", self.noise)\n",
    "        \n",
    "        self.replay_buffer.save(f\"{self.path_save}/save_agent_{date_now}\")\n",
    "\n",
    "    def load(self):\n",
    "        self.actor.load_weights(f\"{self.path_load}/{self.actor.net_name}.h5\")\n",
    "        self.target_actor.load_weights(f\"{self.path_load}/{self.target_actor.net_name}.h5\")\n",
    "        self.critic.load_weights(f\"{self.path_load}/{self.critic.net_name}.h5\")\n",
    "        self.target_critic.load_weights(f\"{self.path_load}/{self.target_critic.net_name}.h5\")\n",
    "        \n",
    "        self.noise = np.load(f\"{self.path_load}/noise.npy\")\n",
    "        \n",
    "        self.replay_buffer.load(f\"{self.path_load}\")\n",
    "    \"\"\"\n",
    "    def get_action(self, observation):\n",
    "        state = tf.convert_to_tensor([observation], dtype=tf.float32)\n",
    "\n",
    "        actions, _ = self.actor.evaluate(state)\n",
    "\n",
    "        return actions[0]\n",
    "\n",
    "    def learn(self):\n",
    "        if self.replay_buffer.check_buffer_size() == False:\n",
    "            return None\n",
    "\n",
    "        state, action, reward, new_state, done = self.replay_buffer.get_minibatch()\n",
    "\n",
    "        states = tf.convert_to_tensor(state, dtype=tf.float32)\n",
    "        new_states = tf.convert_to_tensor(new_state, dtype=tf.float32)\n",
    "        rewards = tf.convert_to_tensor(reward, dtype=tf.float32)\n",
    "        actions = tf.convert_to_tensor(action, dtype=tf.float32)\n",
    "        \n",
    "        with tf.GradientTape() as tape:\n",
    "            value = tf.squeeze(self.value_critic(states), 1)\n",
    "            target_value = tf.squeeze(self.target_value_critic(new_states), 1)\n",
    "            \n",
    "            current_policy_actions, log_probs = self.actor.evaluate(states, False)\n",
    "            log_probs = tf.squeeze(log_probs,1)\n",
    "\n",
    "            q_value_0 = self.critic_0(states, current_policy_actions)\n",
    "            q_value_1 = self.critic_1(states, current_policy_actions)\n",
    "            q_value = tf.squeeze(tf.math.minimum(q_value_0, q_value_1), 1)\n",
    "\n",
    "            y = q_value - log_probs\n",
    "            value_critic_loss = 0.5 * tf.keras.losses.MSE(value, y)\n",
    "        \n",
    "        value_critic_gradient = tape.gradient(value_critic_loss, self.value_critic.trainable_variables)\n",
    "        self.value_critic.optimizer.apply_gradients(zip(value_critic_gradient, self.value_critic.trainable_variables))\n",
    "        \n",
    "        \n",
    "        with tf.GradientTape() as tape:\n",
    "            new_policy_actions, log_probs = self.actor.evaluate(states, False)\n",
    "            log_probs = tf.squeeze(log_probs, 1)\n",
    "            new_q_value_0 = self.critic_0(states, new_policy_actions)\n",
    "            new_q_value_1 = self.critic_1(states, new_policy_actions)\n",
    "            new_q_value = tf.squeeze(tf.math.minimum(new_q_value_0, new_q_value_1), 1)       \n",
    "\n",
    "            actor_loss = log_probs - new_q_value\n",
    "            actor_loss = tf.math.reduce_mean(actor_loss)\n",
    "            \n",
    "        actor_gradient = tape.gradient(actor_loss, self.actor.trainable_variables)\n",
    "        self.actor.optimizer.apply_gradients(zip(actor_gradient, self.actor.trainable_variables))\n",
    "        \n",
    "        with tf.GradientTape(persistent=True) as tape:\n",
    "            q_pred = self.reward_scale * reward + self.gamma * target_value * (1-done)\n",
    "            old_q0_value = tf.squeeze(self.critic_0(state, action), 1)\n",
    "            old_q1_value = tf.squeeze(self.critic_1(state, action), 1)\n",
    "            \n",
    "            loss_critic_0 = 0.5 * tf.keras.losses.MSE(old_q0_value, q_pred)\n",
    "            loss_critic_1 = 0.5 * tf.keras.losses.MSE(old_q1_value, q_pred)\n",
    "    \n",
    "        critic_0_gradient = tape.gradient(loss_critic_0, self.critic_0.trainable_variables)\n",
    "        critic_1_gradient = tape.gradient(loss_critic_1, self.critic_1.trainable_variables)\n",
    "\n",
    "        self.critic_0.optimizer.apply_gradients(zip(critic_0_gradient, self.critic_0.trainable_variables))\n",
    "        self.critic_1.optimizer.apply_gradients(zip(critic_1_gradient, self.critic_1.trainable_variables))\n",
    "\n",
    "        self.update_target_networks(self.tau)"
   ]
  },
  {
   "cell_type": "code",
   "execution_count": 6,
   "metadata": {},
   "outputs": [],
   "source": [
    "agent = Agent(env)\n",
    "n_games = 250"
   ]
  },
  {
   "cell_type": "code",
   "execution_count": 7,
   "metadata": {},
   "outputs": [],
   "source": [
    "obs = env.reset()"
   ]
  },
  {
   "cell_type": "code",
   "execution_count": 8,
   "metadata": {},
   "outputs": [
    {
     "data": {
      "text/plain": [
       "(<tf.Tensor: shape=(1, 1), dtype=float32, numpy=array([[-0.11651768]], dtype=float32)>,\n",
       " <tf.Tensor: shape=(1, 1), dtype=float32, numpy=array([[-0.0392176]], dtype=float32)>)"
      ]
     },
     "execution_count": 8,
     "metadata": {},
     "output_type": "execute_result"
    }
   ],
   "source": [
    "agent.actor(obs[None, :])"
   ]
  },
  {
   "cell_type": "code",
   "execution_count": 9,
   "metadata": {},
   "outputs": [
    {
     "data": {
      "text/plain": [
       "<tf.Tensor: shape=(1, 1), dtype=float32, numpy=array([[0.53402555]], dtype=float32)>"
      ]
     },
     "execution_count": 9,
     "metadata": {},
     "output_type": "execute_result"
    }
   ],
   "source": [
    "agent.get_action(obs[None, :])"
   ]
  },
  {
   "cell_type": "code",
   "execution_count": 10,
   "metadata": {},
   "outputs": [
    {
     "name": "stdout",
     "output_type": "stream",
     "text": [
      "episode  0 score -1083.6 avg score -1083.6\n"
     ]
    },
    {
     "name": "stderr",
     "output_type": "stream",
     "text": [
      "/Users/anton/.conda/envs/reinforcement_learning/lib/python3.8/site-packages/gym/envs/classic_control/pendulum.py:102: RuntimeWarning: invalid value encountered in double_scalars\n",
      "  return (((x+np.pi) % (2*np.pi)) - np.pi)\n"
     ]
    },
    {
     "name": "stdout",
     "output_type": "stream",
     "text": [
      "episode  1 score nan avg score nan\n"
     ]
    },
    {
     "ename": "KeyboardInterrupt",
     "evalue": "",
     "output_type": "error",
     "traceback": [
      "\u001b[0;31m---------------------------------------------------------------------------\u001b[0m",
      "\u001b[0;31mKeyboardInterrupt\u001b[0m                         Traceback (most recent call last)",
      "\u001b[0;32m<ipython-input-10-912da5e1f585>\u001b[0m in \u001b[0;36m<module>\u001b[0;34m\u001b[0m\n\u001b[1;32m     11\u001b[0m         \u001b[0mscore\u001b[0m \u001b[0;34m+=\u001b[0m \u001b[0mreward\u001b[0m\u001b[0;34m\u001b[0m\u001b[0;34m\u001b[0m\u001b[0m\n\u001b[1;32m     12\u001b[0m         \u001b[0magent\u001b[0m\u001b[0;34m.\u001b[0m\u001b[0madd_to_replay_buffer\u001b[0m\u001b[0;34m(\u001b[0m\u001b[0mobservation\u001b[0m\u001b[0;34m,\u001b[0m \u001b[0maction\u001b[0m\u001b[0;34m,\u001b[0m \u001b[0mreward\u001b[0m\u001b[0;34m,\u001b[0m \u001b[0mobservation_\u001b[0m\u001b[0;34m,\u001b[0m \u001b[0mdone\u001b[0m\u001b[0;34m)\u001b[0m\u001b[0;34m\u001b[0m\u001b[0;34m\u001b[0m\u001b[0m\n\u001b[0;32m---> 13\u001b[0;31m         \u001b[0magent\u001b[0m\u001b[0;34m.\u001b[0m\u001b[0mlearn\u001b[0m\u001b[0;34m(\u001b[0m\u001b[0;34m)\u001b[0m\u001b[0;34m\u001b[0m\u001b[0;34m\u001b[0m\u001b[0m\n\u001b[0m\u001b[1;32m     14\u001b[0m         \u001b[0mobservation\u001b[0m \u001b[0;34m=\u001b[0m \u001b[0mobservation_\u001b[0m\u001b[0;34m\u001b[0m\u001b[0;34m\u001b[0m\u001b[0m\n\u001b[1;32m     15\u001b[0m \u001b[0;34m\u001b[0m\u001b[0m\n",
      "\u001b[0;32m<ipython-input-5-64c515a39118>\u001b[0m in \u001b[0;36mlearn\u001b[0;34m(self)\u001b[0m\n\u001b[1;32m     77\u001b[0m             \u001b[0;32mreturn\u001b[0m \u001b[0;32mNone\u001b[0m\u001b[0;34m\u001b[0m\u001b[0;34m\u001b[0m\u001b[0m\n\u001b[1;32m     78\u001b[0m \u001b[0;34m\u001b[0m\u001b[0m\n\u001b[0;32m---> 79\u001b[0;31m         \u001b[0mstate\u001b[0m\u001b[0;34m,\u001b[0m \u001b[0maction\u001b[0m\u001b[0;34m,\u001b[0m \u001b[0mreward\u001b[0m\u001b[0;34m,\u001b[0m \u001b[0mnew_state\u001b[0m\u001b[0;34m,\u001b[0m \u001b[0mdone\u001b[0m \u001b[0;34m=\u001b[0m \u001b[0mself\u001b[0m\u001b[0;34m.\u001b[0m\u001b[0mreplay_buffer\u001b[0m\u001b[0;34m.\u001b[0m\u001b[0mget_minibatch\u001b[0m\u001b[0;34m(\u001b[0m\u001b[0;34m)\u001b[0m\u001b[0;34m\u001b[0m\u001b[0;34m\u001b[0m\u001b[0m\n\u001b[0m\u001b[1;32m     80\u001b[0m \u001b[0;34m\u001b[0m\u001b[0m\n\u001b[1;32m     81\u001b[0m         \u001b[0mstates\u001b[0m \u001b[0;34m=\u001b[0m \u001b[0mtf\u001b[0m\u001b[0;34m.\u001b[0m\u001b[0mconvert_to_tensor\u001b[0m\u001b[0;34m(\u001b[0m\u001b[0mstate\u001b[0m\u001b[0;34m,\u001b[0m \u001b[0mdtype\u001b[0m\u001b[0;34m=\u001b[0m\u001b[0mtf\u001b[0m\u001b[0;34m.\u001b[0m\u001b[0mfloat32\u001b[0m\u001b[0;34m)\u001b[0m\u001b[0;34m\u001b[0m\u001b[0;34m\u001b[0m\u001b[0m\n",
      "\u001b[0;32m~/Projects/reinforcement_learning/sac/src/replay_buffer.py\u001b[0m in \u001b[0;36mget_minibatch\u001b[0;34m(self)\u001b[0m\n\u001b[1;32m     52\u001b[0m \u001b[0;34m\u001b[0m\u001b[0m\n\u001b[1;32m     53\u001b[0m         \u001b[0;31m# Take indices\u001b[0m\u001b[0;34m\u001b[0m\u001b[0;34m\u001b[0m\u001b[0;34m\u001b[0m\u001b[0m\n\u001b[0;32m---> 54\u001b[0;31m         \u001b[0mstate\u001b[0m \u001b[0;34m=\u001b[0m \u001b[0mself\u001b[0m\u001b[0;34m.\u001b[0m\u001b[0mstates\u001b[0m\u001b[0;34m[\u001b[0m\u001b[0mbatch_index\u001b[0m\u001b[0;34m]\u001b[0m\u001b[0;34m\u001b[0m\u001b[0;34m\u001b[0m\u001b[0m\n\u001b[0m\u001b[1;32m     55\u001b[0m         \u001b[0maction\u001b[0m \u001b[0;34m=\u001b[0m \u001b[0mself\u001b[0m\u001b[0;34m.\u001b[0m\u001b[0mactions\u001b[0m\u001b[0;34m[\u001b[0m\u001b[0mbatch_index\u001b[0m\u001b[0;34m]\u001b[0m\u001b[0;34m\u001b[0m\u001b[0;34m\u001b[0m\u001b[0m\n\u001b[1;32m     56\u001b[0m         \u001b[0mreward\u001b[0m \u001b[0;34m=\u001b[0m \u001b[0mself\u001b[0m\u001b[0;34m.\u001b[0m\u001b[0mrewards\u001b[0m\u001b[0;34m[\u001b[0m\u001b[0mbatch_index\u001b[0m\u001b[0;34m]\u001b[0m\u001b[0;34m\u001b[0m\u001b[0;34m\u001b[0m\u001b[0m\n",
      "\u001b[0;31mKeyboardInterrupt\u001b[0m: "
     ]
    }
   ],
   "source": [
    "best_score = env.reward_range[0]\n",
    "score_history = []\n",
    "\n",
    "for i in range(n_games):\n",
    "    observation = env.reset()\n",
    "    done = False\n",
    "    score = 0\n",
    "    while not done:\n",
    "        action = agent.get_action(observation)\n",
    "        observation_, reward, done, info = env.step(action)\n",
    "        score += reward\n",
    "        agent.add_to_replay_buffer(observation, action, reward, observation_, done)\n",
    "        agent.learn()\n",
    "        observation = observation_\n",
    "    \n",
    "    agent.replay_buffer.update_n_games()\n",
    "    \n",
    "    score_history.append(score)\n",
    "    avg_score = np.mean(score_history[-100:])\n",
    "\n",
    "    if avg_score > best_score:\n",
    "        best_score = avg_score\n",
    "    if (i + 1) % 200 == 0:\n",
    "        print(\"saving\")\n",
    "        agent.save()\n",
    "    print('episode ', i, 'score %.1f' % score, 'avg score %.1f' % avg_score)"
   ]
  },
  {
   "cell_type": "code",
   "execution_count": null,
   "metadata": {},
   "outputs": [],
   "source": []
  }
 ],
 "metadata": {
  "kernelspec": {
   "display_name": "Python 3",
   "language": "python",
   "name": "python3"
  },
  "language_info": {
   "codemirror_mode": {
    "name": "ipython",
    "version": 3
   },
   "file_extension": ".py",
   "mimetype": "text/x-python",
   "name": "python",
   "nbconvert_exporter": "python",
   "pygments_lexer": "ipython3",
   "version": "3.8.5"
  }
 },
 "nbformat": 4,
 "nbformat_minor": 4
}
