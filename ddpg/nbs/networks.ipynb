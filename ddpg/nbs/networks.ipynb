{
 "cells": [
  {
   "cell_type": "code",
   "execution_count": 1,
   "metadata": {},
   "outputs": [],
   "source": [
    "import sys\n",
    "sys.path.append(\"../src\")\n",
    "from plugin_write_and_run import *"
   ]
  },
  {
   "cell_type": "code",
   "execution_count": 2,
   "metadata": {},
   "outputs": [],
   "source": [
    "%%write_and_run ../src/networks.py\n",
    "import sys\n",
    "sys.path.append(\"../src\")\n",
    "from config import *\n",
    "import tensorflow as tf\n",
    "from tensorflow.keras.layers import Input, Dense, Lambda, Concatenate\n",
    "from tensorflow.keras.initializers import random_normal"
   ]
  },
  {
   "cell_type": "code",
   "execution_count": 3,
   "metadata": {},
   "outputs": [],
   "source": [
    "%%write_and_run -a ../src/networks.py\n",
    "\n",
    "class Actor(tf.keras.Model):\n",
    "    def __init__(self, action_dim, action_upper_bound, hidden_0=ACTOR_HIDDEN_0, hidden_1=ACTOR_HIDDEN_1):\n",
    "        super().__init__()\n",
    "        self.action_dim = action_dim\n",
    "        self.action_upper_bound = action_upper_bound\n",
    "        self.hidden_0 = hidden_0\n",
    "        self.hidden_1 = hidden_1\n",
    "\n",
    "        \n",
    "        self.dense_0 = Dense(hidden_0,  kernel_initializer=random_normal(), activation='relu', name=\"dense_0\")\n",
    "        self.dense_1 = Dense(hidden_1,  kernel_initializer=random_normal(), activation='relu', name=\"dense_1\")\n",
    "        self.action = Dense(self.action_dim, activation='tanh', kernel_initializer=random_normal(), name=\"action\")\n",
    "        \n",
    "    def __call__(self, inputs, **kwargs):\n",
    "        x = tf.convert_to_tensor(inputs)\n",
    "        x = self.dense_0(x)\n",
    "        x = self.dense_1(x)\n",
    "        return self.action(x) * self.action_upper_bound\n",
    "    \n",
    "class Critic(tf.keras.Model):\n",
    "    def __init__(self, action_dim, hidden_0=CRITIC_HIDDEN_0, hidden_1=CRITIC_HIDDEN_1, hidden_2=CRITIC_HIDDEN_2, hidden_3=CRITIC_HIDDEN_3):\n",
    "        super().__init__()\n",
    "        self.action_dim = action_dim\n",
    "        self.hidden_0 = hidden_0\n",
    "        self.hidden_1 = hidden_1\n",
    "        self.hidden_2 = hidden_2\n",
    "        self.hidden_3 = hidden_3\n",
    "        \n",
    "        self.dense_0 = Dense(hidden_0,  kernel_initializer=random_normal(), activation='relu', name=\"dense_0\")\n",
    "        self.dense_1 = Dense(hidden_1,  kernel_initializer=random_normal(), activation='relu', name=\"dense_1\")\n",
    "\n",
    "        self.dense_2 = Dense(hidden_2,  kernel_initializer=random_normal(), activation='relu', name=\"dense_2\")\n",
    "        \n",
    "        self.concat = Concatenate()\n",
    "        \n",
    "        self.dense_3 = Dense(hidden_3,  kernel_initializer=random_normal(), activation='relu', name=\"dense_3\")\n",
    "        \n",
    "        self.out = Dense(1, activation='linear', name='out')\n",
    "        \n",
    "    def __call__(self, inputs, actions):\n",
    "        x = tf.convert_to_tensor(inputs)\n",
    "        x = self.dense_0(x)\n",
    "        x = self.dense_1(x)\n",
    "        y = self.dense_2(actions)\n",
    "        x = self.concat([x, y])\n",
    "        x = self.dense_3(x)\n",
    "        return self.out(x)"
   ]
  },
  {
   "cell_type": "code",
   "execution_count": 4,
   "metadata": {},
   "outputs": [],
   "source": [
    "import gym\n",
    "import numpy as np"
   ]
  },
  {
   "cell_type": "code",
   "execution_count": 5,
   "metadata": {},
   "outputs": [],
   "source": [
    "env = gym.make(ENV_NAME)\n",
    "upper_bound = env.action_space.high[0]\n",
    "action_dim = env.action_space.shape[0]\n",
    "actor = Actor(action_dim, upper_bound)"
   ]
  },
  {
   "cell_type": "code",
   "execution_count": 6,
   "metadata": {},
   "outputs": [
    {
     "data": {
      "text/plain": [
       "<tf.Tensor: shape=(1, 2), dtype=float32, numpy=array([[-4.237330e-06, -4.638471e-03]], dtype=float32)>"
      ]
     },
     "execution_count": 6,
     "metadata": {},
     "output_type": "execute_result"
    }
   ],
   "source": [
    "actor(np.random.rand(8, )[None, :])"
   ]
  },
  {
   "cell_type": "code",
   "execution_count": 7,
   "metadata": {},
   "outputs": [],
   "source": [
    "critic = Critic(action_dim)"
   ]
  },
  {
   "cell_type": "code",
   "execution_count": 8,
   "metadata": {},
   "outputs": [
    {
     "data": {
      "text/plain": [
       "[]"
      ]
     },
     "execution_count": 8,
     "metadata": {},
     "output_type": "execute_result"
    }
   ],
   "source": [
    "critic.get_weights()"
   ]
  },
  {
   "cell_type": "code",
   "execution_count": 9,
   "metadata": {},
   "outputs": [],
   "source": [
    "action = np.array((-0.5, 0.5))"
   ]
  },
  {
   "cell_type": "code",
   "execution_count": 10,
   "metadata": {},
   "outputs": [
    {
     "data": {
      "text/plain": [
       "<tf.Tensor: shape=(1, 1), dtype=float32, numpy=array([[-0.00951107]], dtype=float32)>"
      ]
     },
     "execution_count": 10,
     "metadata": {},
     "output_type": "execute_result"
    }
   ],
   "source": [
    "critic(np.random.rand(8, )[None, :], action[None, :])"
   ]
  },
  {
   "cell_type": "code",
   "execution_count": 13,
   "metadata": {},
   "outputs": [],
   "source": [
    "a = critic.variables"
   ]
  },
  {
   "cell_type": "code",
   "execution_count": null,
   "metadata": {},
   "outputs": [],
   "source": []
  }
 ],
 "metadata": {
  "kernelspec": {
   "display_name": "Python 3",
   "language": "python",
   "name": "python3"
  },
  "language_info": {
   "codemirror_mode": {
    "name": "ipython",
    "version": 3
   },
   "file_extension": ".py",
   "mimetype": "text/x-python",
   "name": "python",
   "nbconvert_exporter": "python",
   "pygments_lexer": "ipython3",
   "version": "3.8.5"
  }
 },
 "nbformat": 4,
 "nbformat_minor": 4
}
