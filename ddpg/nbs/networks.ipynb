{
 "cells": [
  {
   "cell_type": "code",
   "execution_count": 1,
   "metadata": {},
   "outputs": [],
   "source": [
    "import sys\n",
    "sys.path.append(\"../src\")\n",
    "from plugin_write_and_run import *"
   ]
  },
  {
   "cell_type": "code",
   "execution_count": 2,
   "metadata": {},
   "outputs": [],
   "source": [
    "%%write_and_run ../src/networks.py\n",
    "import sys\n",
    "sys.path.append(\"../src\")\n",
    "from replay_buffer import *\n",
    "from config import *\n",
    "import tensorflow as tf\n",
    "from tensorflow.keras.layers import Dense\n",
    "from tensorflow.keras.initializers import random_uniform"
   ]
  },
  {
   "cell_type": "code",
   "execution_count": 3,
   "metadata": {},
   "outputs": [],
   "source": [
    "%%write_and_run -a ../src/networks.py\n",
    "\n",
    "class Critic(tf.keras.Model):\n",
    "    def __init__(self, name, hidden_0=CRITIC_HIDDEN_0, hidden_1=CRITIC_HIDDEN_1):\n",
    "        super(Critic, self).__init__()\n",
    "        \n",
    "        self.hidden_0 = hidden_0\n",
    "        self.hidden_1 = hidden_1\n",
    "\n",
    "        self.net_name = name\n",
    "\n",
    "        self.dense_0 = Dense(self.hidden_0, activation='relu')\n",
    "        self.dense_1 = Dense(self.hidden_1, activation='relu')\n",
    "        self.q_value = Dense(1, activation=None)\n",
    "\n",
    "    def call(self, state, action):\n",
    "        state_action_value = self.dense_0(tf.concat([state, action], axis=1))\n",
    "        state_action_value = self.dense_1(state_action_value)\n",
    "\n",
    "        q_value = self.q_value(state_action_value)\n",
    "\n",
    "        return q_value\n",
    "\n",
    "class Actor(tf.keras.Model):\n",
    "    def __init__(self, name, actions_dim, upper_bound, hidden_0=CRITIC_HIDDEN_0, hidden_1=CRITIC_HIDDEN_1, init_minval=INIT_MINVAL, init_maxval=INIT_MAXVAL):\n",
    "        super(Actor, self).__init__()\n",
    "        self.hidden_0 = hidden_0\n",
    "        self.hidden_1 = hidden_1\n",
    "        self.actions_dim = actions_dim\n",
    "        self.init_minval = init_minval\n",
    "        self.init_maxval = init_maxval\n",
    "        self.upper_bound = upper_bound\n",
    "        \n",
    "        self.net_name = name\n",
    "\n",
    "        self.dense_0 = Dense(self.hidden_0, activation='relu')\n",
    "        self.dense_1 = Dense(self.hidden_1, activation='relu')\n",
    "        self.policy = Dense(self.actions_dim, kernel_initializer=random_uniform(minval=self.init_minval, maxval=self.init_maxval), activation='tanh')\n",
    "\n",
    "    def call(self, state):\n",
    "        x = self.dense_0(state)\n",
    "        policy = self.dense_1(x)\n",
    "        policy = self.policy(policy)\n",
    "\n",
    "        return policy * self.upper_bound"
   ]
  },
  {
   "cell_type": "code",
   "execution_count": 4,
   "metadata": {},
   "outputs": [],
   "source": [
    "import gym\n",
    "import numpy as np"
   ]
  },
  {
   "cell_type": "code",
   "execution_count": 20,
   "metadata": {},
   "outputs": [],
   "source": [
    "env = gym.make(ENV_NAME)\n",
    "upper_bound = env.action_space.high[0]\n",
    "lower_bound = env.action_space.low[0]\n",
    "action_dim = env.action_space.shape[0]\n",
    "actor = Actor(\"name\", action_dim, upper_bound)\n",
    "critic = Critic(\"name\")"
   ]
  },
  {
   "cell_type": "code",
   "execution_count": 21,
   "metadata": {},
   "outputs": [],
   "source": [
    "env = gym.make(ENV_NAME)"
   ]
  },
  {
   "cell_type": "code",
   "execution_count": 22,
   "metadata": {},
   "outputs": [],
   "source": [
    "rb = ReplayBuffer(env)"
   ]
  },
  {
   "cell_type": "code",
   "execution_count": 23,
   "metadata": {},
   "outputs": [
    {
     "data": {
      "text/plain": [
       "array([ 0.00653095,  1.4056934 ,  0.6614974 , -0.23232347, -0.00756093,\n",
       "       -0.14983907,  0.        ,  0.        ], dtype=float32)"
      ]
     },
     "execution_count": 23,
     "metadata": {},
     "output_type": "execute_result"
    }
   ],
   "source": [
    "env.reset()"
   ]
  },
  {
   "cell_type": "code",
   "execution_count": 27,
   "metadata": {},
   "outputs": [
    {
     "data": {
      "text/plain": [
       "Box(-1.0, 1.0, (2,), float32)"
      ]
     },
     "execution_count": 27,
     "metadata": {},
     "output_type": "execute_result"
    }
   ],
   "source": [
    "env.action_space"
   ]
  },
  {
   "cell_type": "code",
   "execution_count": 28,
   "metadata": {},
   "outputs": [],
   "source": [
    "action = np.array([-0.5, 0.5])"
   ]
  },
  {
   "cell_type": "code",
   "execution_count": 29,
   "metadata": {},
   "outputs": [
    {
     "data": {
      "text/plain": [
       "-1.0"
      ]
     },
     "execution_count": 29,
     "metadata": {},
     "output_type": "execute_result"
    }
   ],
   "source": [
    "lower_bound"
   ]
  },
  {
   "cell_type": "code",
   "execution_count": 30,
   "metadata": {},
   "outputs": [],
   "source": [
    "state, reward, done, _ = env.step(action)"
   ]
  },
  {
   "cell_type": "code",
   "execution_count": 31,
   "metadata": {},
   "outputs": [],
   "source": [
    "for i in range(1000):\n",
    "    rb.add_record(state, action, reward, state, done)"
   ]
  },
  {
   "cell_type": "code",
   "execution_count": 32,
   "metadata": {},
   "outputs": [],
   "source": [
    "state, action, reward, next_state, done = rb.get_minibatch()"
   ]
  },
  {
   "cell_type": "code",
   "execution_count": 35,
   "metadata": {},
   "outputs": [
    {
     "data": {
      "text/plain": [
       "1.0"
      ]
     },
     "execution_count": 35,
     "metadata": {},
     "output_type": "execute_result"
    }
   ],
   "source": [
    "actor.upper_bound"
   ]
  },
  {
   "cell_type": "code",
   "execution_count": 33,
   "metadata": {},
   "outputs": [
    {
     "data": {
      "text/plain": [
       "<tf.Tensor: shape=(64, 2), dtype=float32, numpy=\n",
       "array([[ 0.03692073, -0.04923367],\n",
       "       [ 0.03692073, -0.04923367],\n",
       "       [ 0.03692073, -0.04923367],\n",
       "       [ 0.03692073, -0.04923367],\n",
       "       [ 0.03692073, -0.04923367],\n",
       "       [ 0.03692073, -0.04923367],\n",
       "       [ 0.03692073, -0.04923367],\n",
       "       [ 0.03692073, -0.04923367],\n",
       "       [ 0.03692073, -0.04923367],\n",
       "       [ 0.03692073, -0.04923367],\n",
       "       [ 0.03692073, -0.04923367],\n",
       "       [ 0.03692073, -0.04923367],\n",
       "       [ 0.03692073, -0.04923367],\n",
       "       [ 0.03692073, -0.04923367],\n",
       "       [ 0.03692073, -0.04923367],\n",
       "       [ 0.03692073, -0.04923367],\n",
       "       [ 0.03692073, -0.04923367],\n",
       "       [ 0.03692073, -0.04923367],\n",
       "       [ 0.03692073, -0.04923367],\n",
       "       [ 0.03692073, -0.04923367],\n",
       "       [ 0.03692073, -0.04923367],\n",
       "       [ 0.03692073, -0.04923367],\n",
       "       [ 0.03692073, -0.04923367],\n",
       "       [ 0.03692073, -0.04923367],\n",
       "       [ 0.03692073, -0.04923367],\n",
       "       [ 0.03692073, -0.04923367],\n",
       "       [ 0.03692073, -0.04923367],\n",
       "       [ 0.03692073, -0.04923367],\n",
       "       [ 0.03692073, -0.04923367],\n",
       "       [ 0.03692073, -0.04923367],\n",
       "       [ 0.03692073, -0.04923367],\n",
       "       [ 0.03692073, -0.04923367],\n",
       "       [ 0.03692073, -0.04923367],\n",
       "       [ 0.03692073, -0.04923367],\n",
       "       [ 0.03692073, -0.04923367],\n",
       "       [ 0.03692073, -0.04923367],\n",
       "       [ 0.03692073, -0.04923367],\n",
       "       [ 0.03692073, -0.04923367],\n",
       "       [ 0.03692073, -0.04923367],\n",
       "       [ 0.03692073, -0.04923367],\n",
       "       [ 0.03692073, -0.04923367],\n",
       "       [ 0.03692073, -0.04923367],\n",
       "       [ 0.03692073, -0.04923367],\n",
       "       [ 0.03692073, -0.04923367],\n",
       "       [ 0.03692073, -0.04923367],\n",
       "       [ 0.03692073, -0.04923367],\n",
       "       [ 0.03692073, -0.04923367],\n",
       "       [ 0.03692073, -0.04923367],\n",
       "       [ 0.03692073, -0.04923367],\n",
       "       [ 0.03692073, -0.04923367],\n",
       "       [ 0.03692073, -0.04923367],\n",
       "       [ 0.03692073, -0.04923367],\n",
       "       [ 0.03692073, -0.04923367],\n",
       "       [ 0.03692073, -0.04923367],\n",
       "       [ 0.03692073, -0.04923367],\n",
       "       [ 0.03692073, -0.04923367],\n",
       "       [ 0.03692073, -0.04923367],\n",
       "       [ 0.03692073, -0.04923367],\n",
       "       [ 0.03692073, -0.04923367],\n",
       "       [ 0.03692073, -0.04923367],\n",
       "       [ 0.03692073, -0.04923367],\n",
       "       [ 0.03692073, -0.04923367],\n",
       "       [ 0.03692073, -0.04923367],\n",
       "       [ 0.03692073, -0.04923367]], dtype=float32)>"
      ]
     },
     "execution_count": 33,
     "metadata": {},
     "output_type": "execute_result"
    }
   ],
   "source": [
    "actor(state)"
   ]
  },
  {
   "cell_type": "code",
   "execution_count": 34,
   "metadata": {},
   "outputs": [
    {
     "data": {
      "text/plain": [
       "<tf.Tensor: shape=(64, 1), dtype=float32, numpy=\n",
       "array([[0.08359692],\n",
       "       [0.08359692],\n",
       "       [0.08359692],\n",
       "       [0.08359692],\n",
       "       [0.08359692],\n",
       "       [0.08359692],\n",
       "       [0.08359692],\n",
       "       [0.08359692],\n",
       "       [0.08359692],\n",
       "       [0.08359692],\n",
       "       [0.08359692],\n",
       "       [0.08359692],\n",
       "       [0.08359692],\n",
       "       [0.08359692],\n",
       "       [0.08359692],\n",
       "       [0.08359692],\n",
       "       [0.08359692],\n",
       "       [0.08359692],\n",
       "       [0.08359692],\n",
       "       [0.08359692],\n",
       "       [0.08359692],\n",
       "       [0.08359692],\n",
       "       [0.08359692],\n",
       "       [0.08359692],\n",
       "       [0.08359692],\n",
       "       [0.08359692],\n",
       "       [0.08359692],\n",
       "       [0.08359692],\n",
       "       [0.08359692],\n",
       "       [0.08359692],\n",
       "       [0.08359692],\n",
       "       [0.08359692],\n",
       "       [0.08359692],\n",
       "       [0.08359692],\n",
       "       [0.08359692],\n",
       "       [0.08359692],\n",
       "       [0.08359692],\n",
       "       [0.08359692],\n",
       "       [0.08359692],\n",
       "       [0.08359692],\n",
       "       [0.08359692],\n",
       "       [0.08359692],\n",
       "       [0.08359692],\n",
       "       [0.08359692],\n",
       "       [0.08359692],\n",
       "       [0.08359692],\n",
       "       [0.08359692],\n",
       "       [0.08359692],\n",
       "       [0.08359692],\n",
       "       [0.08359692],\n",
       "       [0.08359692],\n",
       "       [0.08359692],\n",
       "       [0.08359692],\n",
       "       [0.08359692],\n",
       "       [0.08359692],\n",
       "       [0.08359692],\n",
       "       [0.08359692],\n",
       "       [0.08359692],\n",
       "       [0.08359692],\n",
       "       [0.08359692],\n",
       "       [0.08359692],\n",
       "       [0.08359692],\n",
       "       [0.08359692],\n",
       "       [0.08359692]], dtype=float32)>"
      ]
     },
     "execution_count": 34,
     "metadata": {},
     "output_type": "execute_result"
    }
   ],
   "source": [
    "critic(state, action)"
   ]
  },
  {
   "cell_type": "code",
   "execution_count": null,
   "metadata": {},
   "outputs": [],
   "source": []
  }
 ],
 "metadata": {
  "kernelspec": {
   "display_name": "Python 3",
   "language": "python",
   "name": "python3"
  },
  "language_info": {
   "codemirror_mode": {
    "name": "ipython",
    "version": 3
   },
   "file_extension": ".py",
   "mimetype": "text/x-python",
   "name": "python",
   "nbconvert_exporter": "python",
   "pygments_lexer": "ipython3",
   "version": "3.8.5"
  }
 },
 "nbformat": 4,
 "nbformat_minor": 4
}
