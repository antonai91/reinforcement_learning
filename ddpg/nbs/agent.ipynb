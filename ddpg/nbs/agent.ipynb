{
 "cells": [
  {
   "cell_type": "code",
   "execution_count": 1,
   "metadata": {},
   "outputs": [],
   "source": [
    "import sys\n",
    "sys.path.append(\"../src\")\n",
    "from plugin_write_and_run import *"
   ]
  },
  {
   "cell_type": "code",
   "execution_count": 2,
   "metadata": {},
   "outputs": [],
   "source": [
    "%%write_and_run ../src/agent.py\n",
    "import sys\n",
    "sys.path.append(\"../src\")\n",
    "import tensorflow as tf\n",
    "import numpy as np\n",
    "import random\n",
    "from config import *\n",
    "from replay_buffer import *\n",
    "from networks import *"
   ]
  },
  {
   "cell_type": "code",
   "execution_count": 3,
   "metadata": {},
   "outputs": [],
   "source": [
    "import gym\n",
    "env = gym.make(ENV_NAME)"
   ]
  },
  {
   "cell_type": "code",
   "execution_count": 4,
   "metadata": {},
   "outputs": [],
   "source": [
    "%%write_and_run -a ../src/agent.py\n",
    "\n",
    "class Agent:\n",
    "    def __init__(self, env):\n",
    "        self.env = env\n",
    "        self.state_dim = self.env.observation_space.shape[0]\n",
    "        self.action_dim = self.env.action_space.shape[0]\n",
    "        self.action_upper_bound = self.env.action_space.high[0]\n",
    "\n",
    "        self.buffer = ReplayBuffer(self.env)\n",
    "\n",
    "        self.actor = Actor(self.action_dim, self.action_upper_bound)\n",
    "        self.critic = Critic(self.action_dim)\n",
    "        \n",
    "        self.target_actor = Actor(self.action_dim, self.action_upper_bound)\n",
    "        self.target_critic = Critic(self.action_dim)\n",
    "    \n",
    "    def update_target_networks(self):\n",
    "        actor_weights = self.actor.variables\n",
    "        target_actor_weights = self.target_actor.variables\n",
    "        critic_weights = self.critic.variables\n",
    "        target_critic_weights = self.target_critic.variables\n",
    "        _update_target(target_actor_weights, actor_weights, TAU)\n",
    "        _update_target(target_critic_weights, critic_weights, TAU)        \n",
    "    \n",
    "    def _get_target_qvalues(self, rewards, q_values, dones):\n",
    "        targets = rewards * dones + (1 - dones) * (GAMMA * q_values)\n",
    "        return targets\n",
    "    \n",
    "    def _update_target(target_weights, weights, tau):\n",
    "        for (t_w, w) in zip(target_weights, weights):\n",
    "            tw.assign(t_w * (1 - tau) + w * tau)\n",
    "            \n",
    "    def _ornstein_uhlenbeck_process(self, x, theta=THETA, mu=0, dt=DT, std=0.2, dim=1):\n",
    "        \"\"\"\n",
    "        Ornstein–Uhlenbeck process\n",
    "        \"\"\"\n",
    "        return x + theta * (mu-x) * dt + std * np.sqrt(dt) * np.random.normal(size=dim)"
   ]
  }
 ],
 "metadata": {
  "kernelspec": {
   "display_name": "Python 3",
   "language": "python",
   "name": "python3"
  },
  "language_info": {
   "codemirror_mode": {
    "name": "ipython",
    "version": 3
   },
   "file_extension": ".py",
   "mimetype": "text/x-python",
   "name": "python",
   "nbconvert_exporter": "python",
   "pygments_lexer": "ipython3",
   "version": "3.8.5"
  }
 },
 "nbformat": 4,
 "nbformat_minor": 4
}
