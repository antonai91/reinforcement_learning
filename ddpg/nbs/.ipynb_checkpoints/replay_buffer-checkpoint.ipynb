{
 "cells": [
  {
   "cell_type": "code",
   "execution_count": 1,
   "metadata": {},
   "outputs": [],
   "source": [
    "import sys\n",
    "sys.path.append(\"../src\")\n",
    "from config import *\n",
    "from plugin_write_and_run import *"
   ]
  },
  {
   "cell_type": "code",
   "execution_count": 2,
   "metadata": {},
   "outputs": [],
   "source": [
    "%%write_and_run ../src/replay_buffer.py\n",
    "import numpy as np\n",
    "import json\n",
    "import sys\n",
    "sys.path.append(\"../src\")\n",
    "from config import *"
   ]
  },
  {
   "cell_type": "code",
   "execution_count": 3,
   "metadata": {},
   "outputs": [],
   "source": [
    "%%write_and_run -a ../src/replay_buffer.py\n",
    "\n",
    "class ReplayBuffer():\n",
    "    def __init__(self, env, buffer_capacity=BUFFER_CAPACITY, batch_size=BATCH_SIZE, min_size_buffer=MIN_SIZE_BUFFER):\n",
    "        self.env = env\n",
    "        self.buffer_capacity = buffer_capacity\n",
    "        self.batch_size = batch_size\n",
    "        self.min_size_buffer = min_size_buffer\n",
    "        self.buffer_counter = 0\n",
    "        self.n_games = 0\n",
    "        \n",
    "        self.states = np.zeros((self.buffer_capacity, env.observation_space.shape[0]))\n",
    "        self.actions = np.zeros((self.buffer_capacity, env.action_space.shape[0]))\n",
    "        self.rewards = np.zeros((self.buffer_capacity))\n",
    "        self.next_states = np.zeros((self.buffer_capacity, env.observation_space.shape[0]))\n",
    "        self.dones = np.zeros((self.buffer_capacity), dtype=bool)\n",
    "        \n",
    "\n",
    "        \n",
    "    def __len__(self):\n",
    "        return self.buffer_counter\n",
    "\n",
    "    def add_record(self, state, action, reward, next_state, done):\n",
    "        # Set index to zero if counter = buffer_capacity and start again (1 % 100 = 1 and 101 % 100 = 1) so we substitute the older entries\n",
    "        index = self.buffer_counter % self.buffer_capacity\n",
    "\n",
    "        self.states[index] = state\n",
    "        self.actions[index] = action\n",
    "        self.rewards[index] = reward\n",
    "        self.next_states[index] = next_state\n",
    "        self.dones[index] = done\n",
    "        \n",
    "        # Update the counter when record something\n",
    "        self.buffer_counter += 1\n",
    "    \n",
    "    def check_buffer_size(self):\n",
    "        return self.buffer_counter >= self.batch_size and self.buffer_counter >= self.min_size_buffer\n",
    "    \n",
    "    def update_n_games(self):\n",
    "        self.n_games += 1\n",
    "    \n",
    "    def get_minibatch(self):\n",
    "        # If the counter is less than the capacity we don't want to take zeros records, \n",
    "        # if the cunter is higher we don't access the record using the counter \n",
    "        # because older records are deleted to make space for new one\n",
    "        buffer_range = min(self.buffer_counter, self.buffer_capacity)\n",
    "        \n",
    "        batch_index = np.random.choice(buffer_range, self.batch_size, replace=False)\n",
    "\n",
    "        # Convert to tensors\n",
    "        state = self.states[batch_index]\n",
    "        action = self.actions[batch_index]\n",
    "        reward = self.rewards[batch_index]\n",
    "        next_state = self.next_states[batch_index]\n",
    "        done = self.dones[batch_index]\n",
    "        \n",
    "        return state, action, reward, next_state, done\n",
    "    \n",
    "    def save(self, folder_name):\n",
    "        \"\"\"\n",
    "        Save the replay buffer\n",
    "        \"\"\"\n",
    "        if not os.path.isdir(folder_name):\n",
    "            os.mkdir(folder_name)\n",
    "\n",
    "        np.save(folder_name + '/states.npy', self.states)\n",
    "        np.save(folder_name + '/actions.npy', self.actions)\n",
    "        np.save(folder_name + '/rewards.npy', self.rewards)\n",
    "        np.save(folder_name + '/dones.npy', self.dones)\n",
    "        \n",
    "        dict_info = {\"buffer_counter\": self.buffer_counter, \"n_games\": self.n_games}\n",
    "        \n",
    "        with open(folder_name + '/dict_info.json', 'w') as f:\n",
    "            json.dump(dict_info, f)\n",
    "\n",
    "    def load(self, folder_name):\n",
    "        \"\"\"\n",
    "        Load the replay buffer\n",
    "        \"\"\"\n",
    "        self.actions = np.load(folder_name + '/states.npy')\n",
    "        self.actions = np.load(folder_name + '/actions.npy')\n",
    "        self.rewards = np.load(folder_name + '/rewards.npy')\n",
    "        self.dones = np.load(folder_name + '/dones.npy')\n",
    "        \n",
    "        with open(folder_name + '/dict_info.json', 'r') as f:\n",
    "            dict_info = json.load(f)\n",
    "        self.buffer_counter = dict_info[\"buffer_counter\"]\n",
    "        self.n_games = dict_info[\"n_games\"]"
   ]
  },
  {
   "cell_type": "code",
   "execution_count": 4,
   "metadata": {},
   "outputs": [],
   "source": [
    "import gym"
   ]
  },
  {
   "cell_type": "code",
   "execution_count": 5,
   "metadata": {},
   "outputs": [],
   "source": [
    "env = gym.make(ENV_NAME)"
   ]
  },
  {
   "cell_type": "code",
   "execution_count": 6,
   "metadata": {},
   "outputs": [],
   "source": [
    "rb = ReplayBuffer(env)"
   ]
  },
  {
   "cell_type": "code",
   "execution_count": 7,
   "metadata": {},
   "outputs": [
    {
     "data": {
      "text/plain": [
       "0"
      ]
     },
     "execution_count": 7,
     "metadata": {},
     "output_type": "execute_result"
    }
   ],
   "source": [
    "rb.buffer_counter"
   ]
  },
  {
   "cell_type": "code",
   "execution_count": 8,
   "metadata": {},
   "outputs": [
    {
     "data": {
      "text/plain": [
       "array([ 0.00292511,  1.4184309 ,  0.29626375,  0.33381495, -0.00338266,\n",
       "       -0.06710813,  0.        ,  0.        ], dtype=float32)"
      ]
     },
     "execution_count": 8,
     "metadata": {},
     "output_type": "execute_result"
    }
   ],
   "source": [
    "env.reset()"
   ]
  },
  {
   "cell_type": "code",
   "execution_count": 9,
   "metadata": {},
   "outputs": [
    {
     "data": {
      "text/plain": [
       "(2,)"
      ]
     },
     "execution_count": 9,
     "metadata": {},
     "output_type": "execute_result"
    }
   ],
   "source": [
    "env.action_space.shape"
   ]
  },
  {
   "cell_type": "code",
   "execution_count": 10,
   "metadata": {},
   "outputs": [],
   "source": [
    "action = np.array([-0.5, 0.1, 0.2, 0.3])"
   ]
  },
  {
   "cell_type": "code",
   "execution_count": 11,
   "metadata": {},
   "outputs": [],
   "source": [
    "state, reward, done, _ = env.step(action)"
   ]
  },
  {
   "cell_type": "code",
   "execution_count": 12,
   "metadata": {},
   "outputs": [
    {
     "ename": "ValueError",
     "evalue": "could not broadcast input array from shape (4,) into shape (2,)",
     "output_type": "error",
     "traceback": [
      "\u001b[0;31m---------------------------------------------------------------------------\u001b[0m",
      "\u001b[0;31mValueError\u001b[0m                                Traceback (most recent call last)",
      "\u001b[0;32m<ipython-input-12-e55e4eea536b>\u001b[0m in \u001b[0;36m<module>\u001b[0;34m\u001b[0m\n\u001b[1;32m      1\u001b[0m \u001b[0;32mfor\u001b[0m \u001b[0mi\u001b[0m \u001b[0;32min\u001b[0m \u001b[0mrange\u001b[0m\u001b[0;34m(\u001b[0m\u001b[0;36m1000\u001b[0m\u001b[0;34m)\u001b[0m\u001b[0;34m:\u001b[0m\u001b[0;34m\u001b[0m\u001b[0;34m\u001b[0m\u001b[0m\n\u001b[0;32m----> 2\u001b[0;31m     \u001b[0mrb\u001b[0m\u001b[0;34m.\u001b[0m\u001b[0madd_record\u001b[0m\u001b[0;34m(\u001b[0m\u001b[0mstate\u001b[0m\u001b[0;34m,\u001b[0m \u001b[0maction\u001b[0m\u001b[0;34m,\u001b[0m \u001b[0mreward\u001b[0m\u001b[0;34m,\u001b[0m \u001b[0mstate\u001b[0m\u001b[0;34m,\u001b[0m \u001b[0mdone\u001b[0m\u001b[0;34m)\u001b[0m\u001b[0;34m\u001b[0m\u001b[0;34m\u001b[0m\u001b[0m\n\u001b[0m",
      "\u001b[0;32m<ipython-input-3-208a92231486>\u001b[0m in \u001b[0;36madd_record\u001b[0;34m(self, state, action, reward, next_state, done)\u001b[0m\n\u001b[1;32m     24\u001b[0m \u001b[0;34m\u001b[0m\u001b[0m\n\u001b[1;32m     25\u001b[0m         \u001b[0mself\u001b[0m\u001b[0;34m.\u001b[0m\u001b[0mstates\u001b[0m\u001b[0;34m[\u001b[0m\u001b[0mindex\u001b[0m\u001b[0;34m]\u001b[0m \u001b[0;34m=\u001b[0m \u001b[0mstate\u001b[0m\u001b[0;34m\u001b[0m\u001b[0;34m\u001b[0m\u001b[0m\n\u001b[0;32m---> 26\u001b[0;31m         \u001b[0mself\u001b[0m\u001b[0;34m.\u001b[0m\u001b[0mactions\u001b[0m\u001b[0;34m[\u001b[0m\u001b[0mindex\u001b[0m\u001b[0;34m]\u001b[0m \u001b[0;34m=\u001b[0m \u001b[0maction\u001b[0m\u001b[0;34m\u001b[0m\u001b[0;34m\u001b[0m\u001b[0m\n\u001b[0m\u001b[1;32m     27\u001b[0m         \u001b[0mself\u001b[0m\u001b[0;34m.\u001b[0m\u001b[0mrewards\u001b[0m\u001b[0;34m[\u001b[0m\u001b[0mindex\u001b[0m\u001b[0;34m]\u001b[0m \u001b[0;34m=\u001b[0m \u001b[0mreward\u001b[0m\u001b[0;34m\u001b[0m\u001b[0;34m\u001b[0m\u001b[0m\n\u001b[1;32m     28\u001b[0m         \u001b[0mself\u001b[0m\u001b[0;34m.\u001b[0m\u001b[0mnext_states\u001b[0m\u001b[0;34m[\u001b[0m\u001b[0mindex\u001b[0m\u001b[0;34m]\u001b[0m \u001b[0;34m=\u001b[0m \u001b[0mnext_state\u001b[0m\u001b[0;34m\u001b[0m\u001b[0;34m\u001b[0m\u001b[0m\n",
      "\u001b[0;31mValueError\u001b[0m: could not broadcast input array from shape (4,) into shape (2,)"
     ]
    }
   ],
   "source": [
    "for i in range(1000):\n",
    "    rb.add_record(state, action, reward, state, done)"
   ]
  },
  {
   "cell_type": "code",
   "execution_count": null,
   "metadata": {},
   "outputs": [],
   "source": [
    "rb.buffer_counter"
   ]
  },
  {
   "cell_type": "code",
   "execution_count": null,
   "metadata": {},
   "outputs": [],
   "source": [
    "rb.dones"
   ]
  },
  {
   "cell_type": "code",
   "execution_count": null,
   "metadata": {},
   "outputs": [],
   "source": [
    "state, action, reward, next_state, done = rb.get_minibatch()"
   ]
  },
  {
   "cell_type": "code",
   "execution_count": null,
   "metadata": {},
   "outputs": [],
   "source": [
    "state.shape"
   ]
  },
  {
   "cell_type": "code",
   "execution_count": null,
   "metadata": {},
   "outputs": [],
   "source": [
    "action.shape"
   ]
  },
  {
   "cell_type": "code",
   "execution_count": null,
   "metadata": {},
   "outputs": [],
   "source": [
    "rb.buffer_counter"
   ]
  },
  {
   "cell_type": "code",
   "execution_count": null,
   "metadata": {},
   "outputs": [],
   "source": [
    "reward.shape"
   ]
  },
  {
   "cell_type": "code",
   "execution_count": null,
   "metadata": {},
   "outputs": [],
   "source": []
  }
 ],
 "metadata": {
  "kernelspec": {
   "display_name": "Python 3",
   "language": "python",
   "name": "python3"
  },
  "language_info": {
   "codemirror_mode": {
    "name": "ipython",
    "version": 3
   },
   "file_extension": ".py",
   "mimetype": "text/x-python",
   "name": "python",
   "nbconvert_exporter": "python",
   "pygments_lexer": "ipython3",
   "version": "3.8.5"
  }
 },
 "nbformat": 4,
 "nbformat_minor": 4
}
