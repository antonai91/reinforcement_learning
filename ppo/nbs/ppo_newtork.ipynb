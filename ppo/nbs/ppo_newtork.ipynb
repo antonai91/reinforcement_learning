{
 "cells": [
  {
   "cell_type": "code",
   "execution_count": 1,
   "metadata": {},
   "outputs": [],
   "source": [
    "import sys\n",
    "sys.path.append(\"../src/\")\n",
    "from plugin_write_and_run import *"
   ]
  },
  {
   "cell_type": "code",
   "execution_count": 2,
   "metadata": {},
   "outputs": [],
   "source": [
    "%%write_and_run ../src/ppo_network.py\n",
    "import tensorflow as tf\n",
    "from tensorflow.keras.initializers import VarianceScaling\n",
    "from tensorflow.keras.layers import (Add, Conv2D, Dense, Flatten, Input,\n",
    "                                     Lambda, Subtract)\n",
    "import tensorflow.keras.backend as K\n",
    "\n",
    "from tensorflow.keras.models import Model\n",
    "from tensorflow.keras.optimizers import Adam\n",
    "import sys\n",
    "sys.path.append(\"../src/\")\n",
    "from config import *"
   ]
  },
  {
   "cell_type": "code",
   "execution_count": 3,
   "metadata": {},
   "outputs": [],
   "source": [
    "%%write_and_run -a ../src/ppo_network.py\n",
    "\n",
    "def ppo_loss(advantage, old_prediction):\n",
    "    def loss(y_true, y_pred):\n",
    "        prob = y_true * y_pred\n",
    "        old_prob = y_true * old_prediction\n",
    "        ratio = prob/(old_prob + 1e-10)\n",
    "        return -K.mean(K.minimum(ratio * advantage, K.clip(ratio, min_value=1 - CLIP_RATIO, max_value=1 + CLIP_RATIO) * advantage) + \\\n",
    "                       ENTROPY_C * -(prob * K.log(K.clip(prob, K.epsilon(), 1-K.epsilon()))))\n",
    "    return loss\n",
    "\n",
    "def build_ppo_network(n_actions, learning_rate=LR, input_shape=INPUT_SHAPE, history_length=HISTORY_LENGHT, hidden=HIDDEN):\n",
    "    \"\"\"\n",
    "    Builds a dueling DQN as a Keras model\n",
    "\n",
    "    Arguments:\n",
    "        n_actions: Number of possible actions\n",
    "        learning_rate: Learning rate\n",
    "        input_shape: Shape of the preprocessed image\n",
    "        history_length: Number of historical frames to stack togheter\n",
    "        hidden: Integer, Number of filters in the final convolutional layer. \n",
    "\n",
    "    Returns:\n",
    "        A compiled Keras model\n",
    "    \"\"\"\n",
    "    obs = Input(shape=(input_shape[0], input_shape[1], history_length))\n",
    "    \n",
    "    advantages = Input(shape=(1,))\n",
    "    \n",
    "    predictions = Input(shape=(n_actions,))\n",
    "        \n",
    "    \n",
    "    x = Lambda(lambda layer: layer / 255)(obs)  # normalize by 255\n",
    "\n",
    "    x = Conv2D(32, (8, 8), strides=4, kernel_initializer=VarianceScaling(scale=2.), activation='relu', use_bias=False)(x)\n",
    "    x = Conv2D(64, (4, 4), strides=2, kernel_initializer=VarianceScaling(scale=2.), activation='relu', use_bias=False)(x)\n",
    "    x = Conv2D(64, (3, 3), strides=1, kernel_initializer=VarianceScaling(scale=2.), activation='relu', use_bias=False)(x)\n",
    "    x = Conv2D(hidden, (7, 7), strides=1, kernel_initializer=VarianceScaling(scale=2.), activation='relu', use_bias=False)(x)\n",
    "\n",
    "    values_stream = Flatten()(x)\n",
    "    values = Dense(1, kernel_initializer=VarianceScaling(scale=2.), name=\"values\")(values_stream)\n",
    "\n",
    "    probs_stream = Flatten()(x)\n",
    "    probs = Dense(n_actions, kernel_initializer=VarianceScaling(scale=2.), activation='softmax', name=\"probs\")(probs_stream)\n",
    "\n",
    "    # Build model\n",
    "    ppo_net = Model(inputs=[obs, advantages, predictions], outputs=[probs, values])\n",
    "    ppo_net.compile(Adam(learning_rate), loss={'probs' : ppo_loss(advantages, predictions), 'values' : 'mean_squared_error'}, \n",
    "                 loss_weights={'probs': 1e-1, 'values': 1.})\n",
    "\n",
    "    return ppo_net"
   ]
  },
  {
   "cell_type": "code",
   "execution_count": 4,
   "metadata": {},
   "outputs": [],
   "source": [
    "ppo_network = build_ppo_network(6)"
   ]
  },
  {
   "cell_type": "code",
   "execution_count": 5,
   "metadata": {},
   "outputs": [
    {
     "name": "stdout",
     "output_type": "stream",
     "text": [
      "Model: \"model\"\n",
      "__________________________________________________________________________________________________\n",
      "Layer (type)                    Output Shape         Param #     Connected to                     \n",
      "==================================================================================================\n",
      "input_1 (InputLayer)            [(None, 84, 84, 4)]  0                                            \n",
      "__________________________________________________________________________________________________\n",
      "lambda (Lambda)                 (None, 84, 84, 4)    0           input_1[0][0]                    \n",
      "__________________________________________________________________________________________________\n",
      "conv2d (Conv2D)                 (None, 20, 20, 32)   8192        lambda[0][0]                     \n",
      "__________________________________________________________________________________________________\n",
      "conv2d_1 (Conv2D)               (None, 9, 9, 64)     32768       conv2d[0][0]                     \n",
      "__________________________________________________________________________________________________\n",
      "conv2d_2 (Conv2D)               (None, 7, 7, 64)     36864       conv2d_1[0][0]                   \n",
      "__________________________________________________________________________________________________\n",
      "conv2d_3 (Conv2D)               (None, 1, 1, 1024)   3211264     conv2d_2[0][0]                   \n",
      "__________________________________________________________________________________________________\n",
      "flatten_1 (Flatten)             (None, 1024)         0           conv2d_3[0][0]                   \n",
      "__________________________________________________________________________________________________\n",
      "flatten (Flatten)               (None, 1024)         0           conv2d_3[0][0]                   \n",
      "__________________________________________________________________________________________________\n",
      "input_2 (InputLayer)            [(None, 1)]          0                                            \n",
      "__________________________________________________________________________________________________\n",
      "input_3 (InputLayer)            [(None, 6)]          0                                            \n",
      "__________________________________________________________________________________________________\n",
      "probs (Dense)                   (None, 6)            6150        flatten_1[0][0]                  \n",
      "__________________________________________________________________________________________________\n",
      "values (Dense)                  (None, 1)            1025        flatten[0][0]                    \n",
      "==================================================================================================\n",
      "Total params: 3,296,263\n",
      "Trainable params: 3,296,263\n",
      "Non-trainable params: 0\n",
      "__________________________________________________________________________________________________\n"
     ]
    }
   ],
   "source": [
    "ppo_network.summary()"
   ]
  },
  {
   "cell_type": "code",
   "execution_count": 6,
   "metadata": {},
   "outputs": [],
   "source": [
    "from pong_wrapper import *"
   ]
  },
  {
   "cell_type": "code",
   "execution_count": 7,
   "metadata": {},
   "outputs": [],
   "source": [
    "pw = PongWrapper(ENV_NAME, history_length=4)"
   ]
  },
  {
   "cell_type": "code",
   "execution_count": 8,
   "metadata": {},
   "outputs": [],
   "source": [
    "probs, values = ppo_network([pw.reset()[None, :], np.zeros((1, 1)), np.zeros((1, 6))])"
   ]
  },
  {
   "cell_type": "code",
   "execution_count": 9,
   "metadata": {},
   "outputs": [
    {
     "data": {
      "text/plain": [
       "<tf.Tensor: shape=(1,), dtype=int64, numpy=array([5])>"
      ]
     },
     "execution_count": 9,
     "metadata": {},
     "output_type": "execute_result"
    }
   ],
   "source": [
    "tf.squeeze(tf.random.categorical(probs, 1), axis=-1)"
   ]
  },
  {
   "cell_type": "code",
   "execution_count": 10,
   "metadata": {},
   "outputs": [
    {
     "data": {
      "text/plain": [
       "<tf.Tensor: shape=(1, 6), dtype=float32, numpy=\n",
       "array([[0.18297316, 0.14623234, 0.18190148, 0.13831313, 0.13417417,\n",
       "        0.21640573]], dtype=float32)>"
      ]
     },
     "execution_count": 10,
     "metadata": {},
     "output_type": "execute_result"
    }
   ],
   "source": [
    "probs"
   ]
  }
 ],
 "metadata": {
  "kernelspec": {
   "display_name": "Python 3",
   "language": "python",
   "name": "python3"
  },
  "language_info": {
   "codemirror_mode": {
    "name": "ipython",
    "version": 3
   },
   "file_extension": ".py",
   "mimetype": "text/x-python",
   "name": "python",
   "nbconvert_exporter": "python",
   "pygments_lexer": "ipython3",
   "version": "3.8.5"
  }
 },
 "nbformat": 4,
 "nbformat_minor": 4
}
