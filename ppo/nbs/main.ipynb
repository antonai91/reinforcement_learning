{
 "cells": [
  {
   "cell_type": "code",
   "execution_count": 1,
   "metadata": {},
   "outputs": [],
   "source": [
    "import sys\n",
    "sys.path.append(\"../src/\")\n",
    "from plugin_write_and_run import *"
   ]
  },
  {
   "cell_type": "code",
   "execution_count": 2,
   "metadata": {},
   "outputs": [],
   "source": [
    "%%write_and_run ../src/main.py\n",
    "import sys\n",
    "sys.path.append(\"../src/\")\n",
    "import wandb\n",
    "import os\n",
    "from config import *\n",
    "from pong_wrapper import *\n",
    "from process_image import *\n",
    "from utilities import *\n",
    "from ppo_network import *\n",
    "from ppo_agent import *"
   ]
  },
  {
   "cell_type": "code",
   "execution_count": 3,
   "metadata": {},
   "outputs": [
    {
     "name": "stderr",
     "output_type": "stream",
     "text": [
      "\u001b[34m\u001b[1mwandb\u001b[0m: Currently logged in as: \u001b[33manton-ai\u001b[0m (use `wandb login --relogin` to force relogin)\n",
      "\u001b[34m\u001b[1mwandb\u001b[0m: wandb version 0.10.15 is available!  To upgrade, please run:\n",
      "\u001b[34m\u001b[1mwandb\u001b[0m:  $ pip install wandb --upgrade\n"
     ]
    },
    {
     "data": {
      "text/html": [
       "\n",
       "                Tracking run with wandb version 0.10.12<br/>\n",
       "                Syncing run <strong style=\"color:#cdcd00\">fanciful-sun-30</strong> to <a href=\"https://wandb.ai\" target=\"_blank\">Weights & Biases</a> <a href=\"https://docs.wandb.com/integrations/jupyter.html\" target=\"_blank\">(Documentation)</a>.<br/>\n",
       "                Project page: <a href=\"https://wandb.ai/anton-ai/tensorflow2_pong_a2c\" target=\"_blank\">https://wandb.ai/anton-ai/tensorflow2_pong_a2c</a><br/>\n",
       "                Run page: <a href=\"https://wandb.ai/anton-ai/tensorflow2_pong_a2c/runs/is4r1x7q\" target=\"_blank\">https://wandb.ai/anton-ai/tensorflow2_pong_a2c/runs/is4r1x7q</a><br/>\n",
       "                Run data is saved locally in <code>/Users/anton/Projects/reinforcement_learning/ppo/nbs/wandb/run-20210129_145028-is4r1x7q</code><br/><br/>\n",
       "            "
      ],
      "text/plain": [
       "<IPython.core.display.HTML object>"
      ]
     },
     "metadata": {},
     "output_type": "display_data"
    }
   ],
   "source": [
    "%%write_and_run -a ../src/main.py\n",
    "\n",
    "wandb.init(\n",
    "  project=\"tensorflow2_pong_a2c\",\n",
    "  tags=[\"a2c\", \"CNN\", \"RL\"],\n",
    "  config=CONFIG_WANDB,\n",
    ")\n",
    "\n",
    "pw = PongWrapper(ENV_NAME, history_length=4)\n",
    "model = PpoNetwork()\n",
    "ppo_agent = PpoAgent(model)\n",
    "\n",
    "def main():\n",
    "    rewards_history = ppo_agent.train(pw)"
   ]
  },
  {
   "cell_type": "code",
   "execution_count": 4,
   "metadata": {},
   "outputs": [
    {
     "name": "stderr",
     "output_type": "stream",
     "text": [
      "  2%|▏         | 2/100 [00:02<01:49,  1.12s/it]"
     ]
    },
    {
     "name": "stdout",
     "output_type": "stream",
     "text": [
      "Saving the model in ../model//save_agent_202101291450\n",
      "Saved.\n"
     ]
    },
    {
     "name": "stderr",
     "output_type": "stream",
     "text": [
      "\n"
     ]
    }
   ],
   "source": [
    "%%write_and_run -a ../src/main.py\n",
    "\n",
    "if __name__ == \"__main__\":\n",
    "    try:\n",
    "        main()\n",
    "    except KeyboardInterrupt:\n",
    "        # Save the model, I need this in order to save the networks, frame number, rewards and losses. \n",
    "        # if I want to stop the script and restart without training from the beginning\n",
    "        if PATH_SAVE_MODEL is None:\n",
    "            print(\"Setting path to ../model\")\n",
    "            PATH_SAVE_MODEL = \"../model\"\n",
    "        print('Saving the model in ' + f'{PATH_SAVE_MODEL}/save_agent_{time.strftime(\"%Y%m%d%H%M\")}')\n",
    "        ppo_agent.save_model(f'{PATH_SAVE_MODEL}/save_agent_{time.strftime(\"%Y%m%d%H%M\")}')\n",
    "        print('Saved.')"
   ]
  },
  {
   "cell_type": "code",
   "execution_count": null,
   "metadata": {},
   "outputs": [],
   "source": []
  }
 ],
 "metadata": {
  "kernelspec": {
   "display_name": "Python 3",
   "language": "python",
   "name": "python3"
  },
  "language_info": {
   "codemirror_mode": {
    "name": "ipython",
    "version": 3
   },
   "file_extension": ".py",
   "mimetype": "text/x-python",
   "name": "python",
   "nbconvert_exporter": "python",
   "pygments_lexer": "ipython3",
   "version": "3.8.5"
  }
 },
 "nbformat": 4,
 "nbformat_minor": 4
}
