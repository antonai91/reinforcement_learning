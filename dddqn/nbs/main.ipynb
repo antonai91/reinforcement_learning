{
 "cells": [
  {
   "cell_type": "code",
   "execution_count": 1,
   "metadata": {},
   "outputs": [],
   "source": [
    "import sys\n",
    "sys.path.append(\"../src/\")\n",
    "from plugin_write_and_run import write_and_run"
   ]
  },
  {
   "cell_type": "code",
   "execution_count": 2,
   "metadata": {},
   "outputs": [
    {
     "ename": "ModuleNotFoundError",
     "evalue": "No module named 'gym'",
     "output_type": "error",
     "traceback": [
      "\u001b[0;31m---------------------------------------------------------------------------\u001b[0m",
      "\u001b[0;31mModuleNotFoundError\u001b[0m                       Traceback (most recent call last)",
      "\u001b[0;32m<ipython-input-2-fbfcb34ef8a8>\u001b[0m in \u001b[0;36m<module>\u001b[0;34m\u001b[0m\n\u001b[1;32m      3\u001b[0m \u001b[0;32mimport\u001b[0m \u001b[0msys\u001b[0m\u001b[0;34m\u001b[0m\u001b[0;34m\u001b[0m\u001b[0m\n\u001b[1;32m      4\u001b[0m \u001b[0msys\u001b[0m\u001b[0;34m.\u001b[0m\u001b[0mpath\u001b[0m\u001b[0;34m.\u001b[0m\u001b[0mappend\u001b[0m\u001b[0;34m(\u001b[0m\u001b[0;34m\"../src/\"\u001b[0m\u001b[0;34m)\u001b[0m\u001b[0;34m\u001b[0m\u001b[0;34m\u001b[0m\u001b[0m\n\u001b[0;32m----> 5\u001b[0;31m \u001b[0;32mimport\u001b[0m \u001b[0mgym\u001b[0m\u001b[0;34m\u001b[0m\u001b[0;34m\u001b[0m\u001b[0m\n\u001b[0m\u001b[1;32m      6\u001b[0m \u001b[0;32mimport\u001b[0m \u001b[0mrandom\u001b[0m\u001b[0;34m\u001b[0m\u001b[0;34m\u001b[0m\u001b[0m\n\u001b[1;32m      7\u001b[0m \u001b[0;32mimport\u001b[0m \u001b[0mtime\u001b[0m\u001b[0;34m\u001b[0m\u001b[0;34m\u001b[0m\u001b[0m\n",
      "\u001b[0;31mModuleNotFoundError\u001b[0m: No module named 'gym'"
     ]
    }
   ],
   "source": [
    "%%write_and_run ../src/main.py\n",
    "#!/usr/bin/python\n",
    "\n",
    "import sys\n",
    "sys.path.append(\"../src/\")\n",
    "import gym\n",
    "import random\n",
    "import time\n",
    "from config import *\n",
    "from dddqn_agent import *\n",
    "from dueling_dqn_network import *\n",
    "from pong_wrapper import *\n",
    "from process_image import *\n",
    "from replay_buffer import *\n",
    "from utilities import *\n",
    "import wandb"
   ]
  },
  {
   "cell_type": "code",
   "execution_count": 3,
   "metadata": {},
   "outputs": [
    {
     "ename": "NameError",
     "evalue": "name 'wandb' is not defined",
     "output_type": "error",
     "traceback": [
      "\u001b[0;31m---------------------------------------------------------------------------\u001b[0m",
      "\u001b[0;31mNameError\u001b[0m                                 Traceback (most recent call last)",
      "\u001b[0;32m<ipython-input-3-20f00aab33e0>\u001b[0m in \u001b[0;36m<module>\u001b[0;34m\u001b[0m\n\u001b[1;32m      6\u001b[0m )\n\u001b[1;32m      7\u001b[0m \u001b[0;34m\u001b[0m\u001b[0m\n\u001b[0;32m----> 8\u001b[0;31m wandb.init(\n\u001b[0m\u001b[1;32m      9\u001b[0m   \u001b[0mproject\u001b[0m\u001b[0;34m=\u001b[0m\u001b[0;34m\"tensorflow2_pong\"\u001b[0m\u001b[0;34m,\u001b[0m\u001b[0;34m\u001b[0m\u001b[0;34m\u001b[0m\u001b[0m\n\u001b[1;32m     10\u001b[0m   \u001b[0mtags\u001b[0m\u001b[0;34m=\u001b[0m\u001b[0;34m[\u001b[0m\u001b[0;34m\"DDDQN\"\u001b[0m\u001b[0;34m,\u001b[0m \u001b[0;34m\"CNN\"\u001b[0m\u001b[0;34m,\u001b[0m \u001b[0;34m\"RL\"\u001b[0m\u001b[0;34m]\u001b[0m\u001b[0;34m,\u001b[0m\u001b[0;34m\u001b[0m\u001b[0;34m\u001b[0m\u001b[0m\n",
      "\u001b[0;31mNameError\u001b[0m: name 'wandb' is not defined"
     ]
    }
   ],
   "source": [
    "%%write_and_run -a ../src/main.py\n",
    "\n",
    "config = dict (\n",
    "  learning_rate = 0.00025,\n",
    "  batch_size = 32,\n",
    "  architecture = \"DDDQN\",\n",
    "  infra = \"Ubuntu\"\n",
    ")\n",
    "\n",
    "wandb.init(\n",
    "  project=\"tensorflow2_pong\",\n",
    "  tags=[\"DDDQN\", \"CNN\", \"RL\"],\n",
    "  config=config,\n",
    ")"
   ]
  },
  {
   "cell_type": "code",
   "execution_count": 4,
   "metadata": {},
   "outputs": [
    {
     "ename": "NameError",
     "evalue": "name 'PongWrapper' is not defined",
     "output_type": "error",
     "traceback": [
      "\u001b[0;31m---------------------------------------------------------------------------\u001b[0m",
      "\u001b[0;31mNameError\u001b[0m                                 Traceback (most recent call last)",
      "\u001b[0;32m<ipython-input-4-17af33e99924>\u001b[0m in \u001b[0;36m<module>\u001b[0;34m\u001b[0m\n\u001b[0;32m----> 1\u001b[0;31m \u001b[0mpong_wrapper\u001b[0m \u001b[0;34m=\u001b[0m \u001b[0mPongWrapper\u001b[0m\u001b[0;34m(\u001b[0m\u001b[0mENV_NAME\u001b[0m\u001b[0;34m,\u001b[0m \u001b[0mNO_OP_STEPS\u001b[0m\u001b[0;34m)\u001b[0m\u001b[0;34m\u001b[0m\u001b[0;34m\u001b[0m\u001b[0m\n\u001b[0m\u001b[1;32m      2\u001b[0m \u001b[0mprint\u001b[0m\u001b[0;34m(\u001b[0m\u001b[0;34m\"The environment has the following {} actions: {}\"\u001b[0m\u001b[0;34m.\u001b[0m\u001b[0mformat\u001b[0m\u001b[0;34m(\u001b[0m\u001b[0mpong_wrapper\u001b[0m\u001b[0;34m.\u001b[0m\u001b[0menv\u001b[0m\u001b[0;34m.\u001b[0m\u001b[0maction_space\u001b[0m\u001b[0;34m.\u001b[0m\u001b[0mn\u001b[0m\u001b[0;34m,\u001b[0m \u001b[0mpong_wrapper\u001b[0m\u001b[0;34m.\u001b[0m\u001b[0menv\u001b[0m\u001b[0;34m.\u001b[0m\u001b[0munwrapped\u001b[0m\u001b[0;34m.\u001b[0m\u001b[0mget_action_meanings\u001b[0m\u001b[0;34m(\u001b[0m\u001b[0;34m)\u001b[0m\u001b[0;34m)\u001b[0m\u001b[0;34m)\u001b[0m\u001b[0;34m\u001b[0m\u001b[0;34m\u001b[0m\u001b[0m\n",
      "\u001b[0;31mNameError\u001b[0m: name 'PongWrapper' is not defined"
     ]
    }
   ],
   "source": [
    "%%write_and_run -a ../src/main.py\n",
    "\n",
    "pong_wrapper = PongWrapper(ENV_NAME, NO_OP_STEPS)\n",
    "print(\"The environment has the following {} actions: {}\".format(pong_wrapper.env.action_space.n, pong_wrapper.env.unwrapped.get_action_meanings()))"
   ]
  },
  {
   "cell_type": "code",
   "execution_count": 5,
   "metadata": {},
   "outputs": [
    {
     "ename": "NameError",
     "evalue": "name 'build_q_network' is not defined",
     "output_type": "error",
     "traceback": [
      "\u001b[0;31m---------------------------------------------------------------------------\u001b[0m",
      "\u001b[0;31mNameError\u001b[0m                                 Traceback (most recent call last)",
      "\u001b[0;32m<ipython-input-5-b6c8c0098486>\u001b[0m in \u001b[0;36m<module>\u001b[0;34m\u001b[0m\n\u001b[0;32m----> 1\u001b[0;31m \u001b[0mMAIN_DQN\u001b[0m \u001b[0;34m=\u001b[0m \u001b[0mbuild_q_network\u001b[0m\u001b[0;34m(\u001b[0m\u001b[0mpong_wrapper\u001b[0m\u001b[0;34m.\u001b[0m\u001b[0menv\u001b[0m\u001b[0;34m.\u001b[0m\u001b[0maction_space\u001b[0m\u001b[0;34m.\u001b[0m\u001b[0mn\u001b[0m\u001b[0;34m,\u001b[0m \u001b[0mLEARNING_RATE\u001b[0m\u001b[0;34m,\u001b[0m \u001b[0minput_shape\u001b[0m\u001b[0;34m=\u001b[0m\u001b[0mINPUT_SHAPE\u001b[0m\u001b[0;34m)\u001b[0m\u001b[0;34m\u001b[0m\u001b[0;34m\u001b[0m\u001b[0m\n\u001b[0m\u001b[1;32m      2\u001b[0m \u001b[0mTARGET_DQN\u001b[0m \u001b[0;34m=\u001b[0m \u001b[0mbuild_q_network\u001b[0m\u001b[0;34m(\u001b[0m\u001b[0mpong_wrapper\u001b[0m\u001b[0;34m.\u001b[0m\u001b[0menv\u001b[0m\u001b[0;34m.\u001b[0m\u001b[0maction_space\u001b[0m\u001b[0;34m.\u001b[0m\u001b[0mn\u001b[0m\u001b[0;34m,\u001b[0m \u001b[0minput_shape\u001b[0m\u001b[0;34m=\u001b[0m\u001b[0mINPUT_SHAPE\u001b[0m\u001b[0;34m)\u001b[0m\u001b[0;34m\u001b[0m\u001b[0;34m\u001b[0m\u001b[0m\n\u001b[1;32m      3\u001b[0m \u001b[0;34m\u001b[0m\u001b[0m\n\u001b[1;32m      4\u001b[0m \u001b[0mreplay_buffer\u001b[0m \u001b[0;34m=\u001b[0m \u001b[0mReplayBuffer\u001b[0m\u001b[0;34m(\u001b[0m\u001b[0msize\u001b[0m\u001b[0;34m=\u001b[0m\u001b[0mMEMORY_SIZE\u001b[0m\u001b[0;34m,\u001b[0m \u001b[0minput_shape\u001b[0m\u001b[0;34m=\u001b[0m\u001b[0mINPUT_SHAPE\u001b[0m\u001b[0;34m)\u001b[0m\u001b[0;34m\u001b[0m\u001b[0;34m\u001b[0m\u001b[0m\n\u001b[1;32m      5\u001b[0m dddqn_agent = DDDQN_AGENT(MAIN_DQN, TARGET_DQN, replay_buffer, pong_wrapper.env.action_space.n, \n",
      "\u001b[0;31mNameError\u001b[0m: name 'build_q_network' is not defined"
     ]
    }
   ],
   "source": [
    "%%write_and_run -a ../src/main.py\n",
    "\n",
    "MAIN_DQN = build_q_network(pong_wrapper.env.action_space.n, LEARNING_RATE, input_shape=INPUT_SHAPE)\n",
    "TARGET_DQN = build_q_network(pong_wrapper.env.action_space.n, input_shape=INPUT_SHAPE)\n",
    "\n",
    "replay_buffer = ReplayBuffer(size=MEMORY_SIZE, input_shape=INPUT_SHAPE)\n",
    "dddqn_agent = DDDQN_AGENT(MAIN_DQN, TARGET_DQN, replay_buffer, pong_wrapper.env.action_space.n, \n",
    "                    input_shape=INPUT_SHAPE, batch_size=BATCH_SIZE, \n",
    "                   replay_buffer_start_size=REPLAY_MEMORY_START_SIZE,\n",
    "                   max_frames=MAX_FRAMES)"
   ]
  },
  {
   "cell_type": "code",
   "execution_count": 6,
   "metadata": {},
   "outputs": [
    {
     "ename": "NameError",
     "evalue": "name 'PATH_LOAD_MODEL' is not defined",
     "output_type": "error",
     "traceback": [
      "\u001b[0;31m---------------------------------------------------------------------------\u001b[0m",
      "\u001b[0;31mNameError\u001b[0m                                 Traceback (most recent call last)",
      "\u001b[0;32m<ipython-input-6-a8916f1f3dd4>\u001b[0m in \u001b[0;36m<module>\u001b[0;34m\u001b[0m\n\u001b[0;32m----> 1\u001b[0;31m \u001b[0;32mif\u001b[0m \u001b[0mPATH_LOAD_MODEL\u001b[0m \u001b[0;32mis\u001b[0m \u001b[0;32mnot\u001b[0m \u001b[0;32mNone\u001b[0m\u001b[0;34m:\u001b[0m\u001b[0;34m\u001b[0m\u001b[0;34m\u001b[0m\u001b[0m\n\u001b[0m\u001b[1;32m      2\u001b[0m     \u001b[0mstart_time\u001b[0m \u001b[0;34m=\u001b[0m \u001b[0mtime\u001b[0m\u001b[0;34m.\u001b[0m\u001b[0mtime\u001b[0m\u001b[0;34m(\u001b[0m\u001b[0;34m)\u001b[0m\u001b[0;34m\u001b[0m\u001b[0;34m\u001b[0m\u001b[0m\n\u001b[1;32m      3\u001b[0m     \u001b[0mprint\u001b[0m\u001b[0;34m(\u001b[0m\u001b[0;34m'Loading model and info from the folder '\u001b[0m\u001b[0;34m,\u001b[0m \u001b[0mPATH_LOAD_MODEL\u001b[0m\u001b[0;34m)\u001b[0m\u001b[0;34m\u001b[0m\u001b[0;34m\u001b[0m\u001b[0m\n\u001b[1;32m      4\u001b[0m     \u001b[0minfo\u001b[0m \u001b[0;34m=\u001b[0m \u001b[0mdddqn_agent\u001b[0m\u001b[0;34m.\u001b[0m\u001b[0mload\u001b[0m\u001b[0;34m(\u001b[0m\u001b[0mPATH_LOAD_MODEL\u001b[0m\u001b[0;34m,\u001b[0m \u001b[0mLOAD_REPLAY_BUFFER\u001b[0m\u001b[0;34m)\u001b[0m\u001b[0;34m\u001b[0m\u001b[0;34m\u001b[0m\u001b[0m\n\u001b[1;32m      5\u001b[0m \u001b[0;34m\u001b[0m\u001b[0m\n",
      "\u001b[0;31mNameError\u001b[0m: name 'PATH_LOAD_MODEL' is not defined"
     ]
    }
   ],
   "source": [
    "%%write_and_run -a ../src/main.py\n",
    "\n",
    "if PATH_LOAD_MODEL is not None:\n",
    "    start_time = time.time()\n",
    "    print('Loading model and info from the folder ', PATH_LOAD_MODEL)\n",
    "    info = dddqn_agent.load(PATH_LOAD_MODEL, LOAD_REPLAY_BUFFER)\n",
    "\n",
    "    # Apply information loaded from meta\n",
    "    frame_number = info['frame_number']\n",
    "    rewards = info['rewards']\n",
    "    loss_list = info['loss_list']\n",
    "\n",
    "    print(f'Loaded in {time.time() - start_time:.1f} seconds')\n",
    "else:\n",
    "    frame_number = 0\n",
    "    rewards = []\n",
    "    loss_list = []"
   ]
  },
  {
   "cell_type": "code",
   "execution_count": 7,
   "metadata": {},
   "outputs": [],
   "source": [
    "%%write_and_run -a ../src/main.py\n",
    "\n",
    "def main():\n",
    "    global frame_number, rewards, loss_list\n",
    "    while frame_number < MAX_FRAMES:\n",
    "        epoch_frame = 0\n",
    "        while epoch_frame < EVAL_FREQUENCY:\n",
    "            start_time = time.time()\n",
    "            pong_wrapper.reset()\n",
    "            episode_reward_sum = 0\n",
    "            for _ in range(MAX_EPISODE_LENGTH):\n",
    "                action = dddqn_agent.get_action(frame_number, pong_wrapper.state)\n",
    "                processed_frame, reward, terminal = pong_wrapper.step(action)\n",
    "                frame_number += 1\n",
    "                epoch_frame += 1\n",
    "                episode_reward_sum += reward\n",
    "\n",
    "                # Add experience to replay memory\n",
    "                dddqn_agent.add_experience(action=action,\n",
    "                                     frame=processed_frame[:, :, 0], # shape 84x84, remove last dimension\n",
    "                                     reward=reward, clip_reward=CLIP_REWARD,\n",
    "                                     terminal=terminal)\n",
    "\n",
    "                # Update agent\n",
    "                if frame_number % UPDATE_FREQ == 0 and dddqn_agent.replay_buffer.count > REPLAY_MEMORY_START_SIZE:\n",
    "                    loss, _ = dddqn_agent.learn(BATCH_SIZE, gamma=DISCOUNT_FACTOR)\n",
    "                    loss_list.append(loss)\n",
    "\n",
    "                # Update target network\n",
    "                if frame_number % NETW_UPDATE_FREQ == 0 and frame_number > REPLAY_MEMORY_START_SIZE:\n",
    "                    dddqn_agent.update_target_network()\n",
    "\n",
    "                # Break the loop when the game is over\n",
    "                if terminal:\n",
    "                    terminal = False\n",
    "                    break\n",
    "\n",
    "            rewards.append(episode_reward_sum)\n",
    "\n",
    "            wandb.log({'Game number': len(rewards), '# Frame': frame_number, '% Frame': round(frame_number / MAX_FRAMES, 2), \"Average reward\": round(np.mean(rewards[-10:]), 2), \\\n",
    "                      \"Time taken\": round(time.time() - start_time, 2)})\n",
    "        # Evaluation\n",
    "        terminal = True\n",
    "        eval_rewards = []\n",
    "        evaluate_frame_number = 0\n",
    "\n",
    "        for _ in range(EVAL_STEPS):\n",
    "            if terminal:\n",
    "                pong_wrapper.reset(evaluation=True)\n",
    "                life_lost = True\n",
    "                episode_reward_sum = 0\n",
    "                terminal = False\n",
    "\n",
    "            action = dddqn_agent.get_action(frame_number, pong_wrapper.state, evaluation=True)\n",
    "\n",
    "            # Step action\n",
    "            _, reward, terminal = pong_wrapper.step(action)\n",
    "            evaluate_frame_number += 1\n",
    "            episode_reward_sum += reward\n",
    "\n",
    "            # On game-over\n",
    "            if terminal:\n",
    "                eval_rewards.append(episode_reward_sum)\n",
    "\n",
    "        if len(eval_rewards) > 0:\n",
    "            final_score = np.mean(eval_rewards)\n",
    "        else:\n",
    "            # In case the first game is longer than EVAL_STEPS\n",
    "            final_score = episode_reward_sum\n",
    "        # Log evaluation score\n",
    "        wandb.log({'# Frame': frame_number, '% Frame': round(frame_number / MAX_FRAMES, 2), 'Evaluation score': final_score})\n",
    "\n",
    "        # Save the networks, frame number, rewards and losses. \n",
    "        if len(rewards) > 500 and PATH_SAVE_MODEL is not None:\n",
    "            dddqn_agent.save(f'{PATH_SAVE_MODEL}/save_agent_{time.strftime(\"%Y%m%d%H%M\") + \"_\" + str(frame_number).zfill(8)}', \\\n",
    "                             frame_number=frame_number, rewards=rewards, loss_list=loss_list)"
   ]
  },
  {
   "cell_type": "code",
   "execution_count": 8,
   "metadata": {},
   "outputs": [
    {
     "name": "stdout",
     "output_type": "stream",
     "text": [
      "Appending to ../src/main.py\n"
     ]
    }
   ],
   "source": [
    "%%writefile -a ../src/main.py\n",
    "\n",
    "if __name__ == \"__main__\":\n",
    "    try:\n",
    "        main()\n",
    "    except KeyboardInterrupt:\n",
    "        # Save the model, I need this in order to save the networks, frame number, rewards and losses. \n",
    "        # if I want to stop the script and restart without training from the beginning\n",
    "        if PATH_SAVE_MODEL is None:\n",
    "            print(\"Setting path to ../model\")\n",
    "            PATH_SAVE_MODEL = \"../model\"\n",
    "        print('Saving the model...')\n",
    "        dddqn_agent.save(f'{PATH_SAVE_MODEL}/save_agent_{time.strftime(\"%Y%m%d%H%M\") + \"_\" + str(frame_number).zfill(8)}', \\\n",
    "                             frame_number=frame_number, rewards=rewards, loss_list=loss_list)\n",
    "        print('Saved.')"
   ]
  }
 ],
 "metadata": {
  "kernelspec": {
   "display_name": "Python 3",
   "language": "python",
   "name": "python3"
  },
  "language_info": {
   "codemirror_mode": {
    "name": "ipython",
    "version": 3
   },
   "file_extension": ".py",
   "mimetype": "text/x-python",
   "name": "python",
   "nbconvert_exporter": "python",
   "pygments_lexer": "ipython3",
   "version": "3.8.5"
  }
 },
 "nbformat": 4,
 "nbformat_minor": 4
}
