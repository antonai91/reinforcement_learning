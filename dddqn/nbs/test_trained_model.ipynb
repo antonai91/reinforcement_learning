{
 "cells": [
  {
   "cell_type": "code",
   "execution_count": 1,
   "metadata": {},
   "outputs": [],
   "source": [
    "import sys\n",
    "sys.path.append(\"../src/\")\n",
    "import gym\n",
    "import random\n",
    "import time\n",
    "from config import *\n",
    "from dddqn_agent import *\n",
    "from dueling_dqn_network import *\n",
    "from pong_wrapper import *\n",
    "from process_image import *\n",
    "from replay_buffer import *\n",
    "from utilities import *\n",
    "import imageio"
   ]
  },
  {
   "cell_type": "code",
   "execution_count": 2,
   "metadata": {},
   "outputs": [
    {
     "name": "stdout",
     "output_type": "stream",
     "text": [
      "The environment has the following 6 actions: ['NOOP', 'FIRE', 'RIGHT', 'LEFT', 'RIGHTFIRE', 'LEFTFIRE']\n"
     ]
    }
   ],
   "source": [
    "pong_wrapper = PongWrapper(ENV_NAME, NO_OP_STEPS)\n",
    "print(\"The environment has the following {} actions: {}\".format(pong_wrapper.env.action_space.n, pong_wrapper.env.unwrapped.get_action_meanings()))"
   ]
  },
  {
   "cell_type": "code",
   "execution_count": 3,
   "metadata": {},
   "outputs": [],
   "source": [
    "MAIN_DQN = build_q_network(pong_wrapper.env.action_space.n, LEARNING_RATE, input_shape=INPUT_SHAPE)\n",
    "TARGET_DQN = build_q_network(pong_wrapper.env.action_space.n, input_shape=INPUT_SHAPE)\n",
    "\n",
    "replay_buffer = ReplayBuffer(size=MEMORY_SIZE, input_shape=INPUT_SHAPE)\n",
    "dddqn_agent = DDDQN_AGENT(MAIN_DQN, TARGET_DQN, replay_buffer, pong_wrapper.env.action_space.n, \n",
    "                    input_shape=INPUT_SHAPE, batch_size=BATCH_SIZE, \n",
    "                   replay_buffer_start_size=REPLAY_MEMORY_START_SIZE,\n",
    "                   max_frames=MAX_FRAMES)"
   ]
  },
  {
   "cell_type": "code",
   "execution_count": 4,
   "metadata": {},
   "outputs": [
    {
     "name": "stdout",
     "output_type": "stream",
     "text": [
      "Loading model and info from the folder  ../model/save_agent_202101050927_01353984\n",
      "Loaded in 0.7 seconds\n"
     ]
    }
   ],
   "source": [
    "if PATH_LOAD_MODEL is not None:\n",
    "    start_time = time.time()\n",
    "    print('Loading model and info from the folder ', PATH_LOAD_MODEL)\n",
    "    info = dddqn_agent.load(PATH_LOAD_MODEL, LOAD_REPLAY_BUFFER)\n",
    "\n",
    "    # Apply information loaded from meta\n",
    "    frame_number = info['frame_number']\n",
    "    rewards = info['rewards']\n",
    "    loss_list = info['loss_list']\n",
    "\n",
    "    print(f'Loaded in {time.time() - start_time:.1f} seconds')\n",
    "else:\n",
    "    frame_number = 0\n",
    "    rewards = []\n",
    "    loss_list = []"
   ]
  },
  {
   "cell_type": "code",
   "execution_count": 8,
   "metadata": {},
   "outputs": [
    {
     "name": "stderr",
     "output_type": "stream",
     "text": [
      "IMAGEIO FFMPEG_WRITER WARNING: input image is not divisible by macro_block_size=16, resizing from (160, 210) to (160, 224) to ensure video compatibility with most codecs and players. To prevent resizing, make your input image divisible by the macro_block_size or set the macro_block_size to 1 (risking incompatibility).\n"
     ]
    }
   ],
   "source": [
    "with imageio.get_writer(\"../video/trained_agent.mp4\", fps=60) as video:\n",
    "    terminal = True\n",
    "    eval_rewards = []\n",
    "    evaluate_frame_number = 0\n",
    "\n",
    "    for frame in range(EVAL_STEPS):\n",
    "        if terminal:\n",
    "            pong_wrapper.reset(evaluation=True)\n",
    "            episode_reward_sum = 0\n",
    "            terminal = False\n",
    "\n",
    "        action = dddqn_agent.get_action(0, pong_wrapper.state, evaluation=True)\n",
    "\n",
    "        # Step action\n",
    "        _, reward, terminal = pong_wrapper.step(action, render_mode='human')\n",
    "        evaluate_frame_number += 1\n",
    "        episode_reward_sum += reward\n",
    "\n",
    "        # On game-over\n",
    "        if terminal:\n",
    "            eval_rewards.append(episode_reward_sum)\n",
    "\n",
    "            video.append_data(pong_wrapper.env.render(mode='rgb_array'))\n",
    "            break"
   ]
  },
  {
   "cell_type": "code",
   "execution_count": 9,
   "metadata": {},
   "outputs": [
    {
     "data": {
      "text/html": [
       "\n",
       "  <video width=\"640\" height=\"480\" controls>\n",
       "    <source src=\"data:video/mp4;base64,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\" type=\"video/mp4\">\n",
       "  Your browser does not support the video tag.\n",
       "  </video>"
      ],
      "text/plain": [
       "<IPython.core.display.HTML object>"
      ]
     },
     "execution_count": 9,
     "metadata": {},
     "output_type": "execute_result"
    }
   ],
   "source": [
    "embed_mp4(\"../video/trained_agent.mp4\")"
   ]
  },
  {
   "cell_type": "code",
   "execution_count": null,
   "metadata": {},
   "outputs": [],
   "source": []
  }
 ],
 "metadata": {
  "kernelspec": {
   "display_name": "Python 3",
   "language": "python",
   "name": "python3"
  },
  "language_info": {
   "codemirror_mode": {
    "name": "ipython",
    "version": 3
   },
   "file_extension": ".py",
   "mimetype": "text/x-python",
   "name": "python",
   "nbconvert_exporter": "python",
   "pygments_lexer": "ipython3",
   "version": "3.6.9"
  }
 },
 "nbformat": 4,
 "nbformat_minor": 4
}
