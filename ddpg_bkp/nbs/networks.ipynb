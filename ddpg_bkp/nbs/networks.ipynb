{
 "cells": [
  {
   "cell_type": "code",
   "execution_count": 1,
   "metadata": {},
   "outputs": [],
   "source": [
    "import sys\n",
    "sys.path.append(\"../src\")\n",
    "from plugin_write_and_run import *"
   ]
  },
  {
   "cell_type": "code",
   "execution_count": 2,
   "metadata": {},
   "outputs": [],
   "source": [
    "%%write_and_run ../src/networks.py\n",
    "import sys\n",
    "sys.path.append(\"../src\")\n",
    "from replay_buffer import *\n",
    "from config import *\n",
    "import tensorflow as tf\n",
    "from tensorflow.keras.layers import Input, Dense, Lambda, Concatenate\n",
    "from tensorflow.keras.initializers import random_normal"
   ]
  },
  {
   "cell_type": "code",
   "execution_count": 3,
   "metadata": {},
   "outputs": [],
   "source": [
    "%%write_and_run -a ../src/networks.py\n",
    "\n",
    "import os\n",
    "import tensorflow as tf\n",
    "import tensorflow.keras as keras\n",
    "from tensorflow.keras.layers import Dense\n",
    "\n",
    "class Critic(keras.Model):\n",
    "    def __init__(self, fc1_dims=512, fc2_dims=512,\n",
    "            name='critic'):\n",
    "        super(Critic, self).__init__()\n",
    "        self.fc1_dims = fc1_dims\n",
    "        self.fc2_dims = fc2_dims\n",
    "\n",
    "        self.model_name = name\n",
    "\n",
    "        self.fc1 = Dense(self.fc1_dims, activation='relu')\n",
    "        self.fc2 = Dense(self.fc2_dims, activation='relu')\n",
    "        self.q = Dense(1, activation=None)\n",
    "\n",
    "    def call(self, state, action):\n",
    "        action_value = self.fc1(tf.concat([state, action], axis=1))\n",
    "        action_value = self.fc2(action_value)\n",
    "\n",
    "        q = self.q(action_value)\n",
    "\n",
    "        return q\n",
    "\n",
    "class Actor(keras.Model):\n",
    "    def __init__(self, fc1_dims=512, fc2_dims=512, n_actions=2, name='actor'):\n",
    "        super(Actor, self).__init__()\n",
    "        self.fc1_dims = fc1_dims\n",
    "        self.fc2_dims = fc2_dims\n",
    "        self.n_actions = n_actions\n",
    "\n",
    "        self.model_name = name\n",
    "\n",
    "        self.fc1 = Dense(self.fc1_dims, activation='relu')\n",
    "        self.fc2 = Dense(self.fc2_dims, activation='relu')\n",
    "        self.mu = Dense(self.n_actions, activation='tanh')\n",
    "\n",
    "    def call(self, state):\n",
    "        prob = self.fc1(state)\n",
    "        prob = self.fc2(prob)\n",
    "\n",
    "        mu = self.mu(prob)\n",
    "\n",
    "        return mu"
   ]
  },
  {
   "cell_type": "code",
   "execution_count": 4,
   "metadata": {},
   "outputs": [],
   "source": [
    "import gym\n",
    "import numpy as np"
   ]
  },
  {
   "cell_type": "code",
   "execution_count": 5,
   "metadata": {},
   "outputs": [],
   "source": [
    "env = gym.make(ENV_NAME)\n",
    "upper_bound = env.action_space.high[0]\n",
    "action_dim = env.action_space.shape[0]\n",
    "actor = Actor(action_dim, upper_bound)"
   ]
  },
  {
   "cell_type": "code",
   "execution_count": 6,
   "metadata": {},
   "outputs": [
    {
     "data": {
      "text/plain": [
       "2.0"
      ]
     },
     "execution_count": 6,
     "metadata": {},
     "output_type": "execute_result"
    }
   ],
   "source": [
    "upper_bound"
   ]
  },
  {
   "cell_type": "code",
   "execution_count": 7,
   "metadata": {},
   "outputs": [],
   "source": [
    "a = Actor()\n",
    "c = Critic()"
   ]
  },
  {
   "cell_type": "code",
   "execution_count": 8,
   "metadata": {},
   "outputs": [],
   "source": [
    "env = gym.make(ENV_NAME)"
   ]
  },
  {
   "cell_type": "code",
   "execution_count": 9,
   "metadata": {},
   "outputs": [],
   "source": [
    "rb = ReplayBuffer(env)"
   ]
  },
  {
   "cell_type": "code",
   "execution_count": 10,
   "metadata": {},
   "outputs": [
    {
     "data": {
      "text/plain": [
       "array([0.72441326, 0.68936596, 0.16871488])"
      ]
     },
     "execution_count": 10,
     "metadata": {},
     "output_type": "execute_result"
    }
   ],
   "source": [
    "env.reset()"
   ]
  },
  {
   "cell_type": "code",
   "execution_count": 11,
   "metadata": {},
   "outputs": [],
   "source": [
    "action = np.array([-0.5])"
   ]
  },
  {
   "cell_type": "code",
   "execution_count": 12,
   "metadata": {},
   "outputs": [],
   "source": [
    "state, reward, done, _ = env.step(action)"
   ]
  },
  {
   "cell_type": "code",
   "execution_count": 13,
   "metadata": {},
   "outputs": [],
   "source": [
    "for i in range(1000):\n",
    "    rb.add_record(state, action, reward, state, done)"
   ]
  },
  {
   "cell_type": "code",
   "execution_count": 14,
   "metadata": {},
   "outputs": [],
   "source": [
    "state, action, reward, next_state, done = rb.get_minibatch()"
   ]
  },
  {
   "cell_type": "code",
   "execution_count": 15,
   "metadata": {},
   "outputs": [
    {
     "data": {
      "text/plain": [
       "<tf.Tensor: shape=(64, 2), dtype=float32, numpy=\n",
       "array([[-0.00344271,  0.02177251],\n",
       "       [-0.00344271,  0.02177251],\n",
       "       [-0.00344271,  0.02177251],\n",
       "       [-0.00344271,  0.02177251],\n",
       "       [-0.00344271,  0.02177251],\n",
       "       [-0.00344271,  0.02177251],\n",
       "       [-0.00344271,  0.02177251],\n",
       "       [-0.00344271,  0.02177251],\n",
       "       [-0.00344271,  0.02177251],\n",
       "       [-0.00344271,  0.02177251],\n",
       "       [-0.00344271,  0.02177251],\n",
       "       [-0.00344271,  0.02177251],\n",
       "       [-0.00344271,  0.02177251],\n",
       "       [-0.00344271,  0.02177251],\n",
       "       [-0.00344271,  0.02177251],\n",
       "       [-0.00344271,  0.02177251],\n",
       "       [-0.00344271,  0.02177251],\n",
       "       [-0.00344271,  0.02177251],\n",
       "       [-0.00344271,  0.02177251],\n",
       "       [-0.00344271,  0.02177251],\n",
       "       [-0.00344271,  0.02177251],\n",
       "       [-0.00344271,  0.02177251],\n",
       "       [-0.00344271,  0.02177251],\n",
       "       [-0.00344271,  0.02177251],\n",
       "       [-0.00344271,  0.02177251],\n",
       "       [-0.00344271,  0.02177251],\n",
       "       [-0.00344271,  0.02177251],\n",
       "       [-0.00344271,  0.02177251],\n",
       "       [-0.00344271,  0.02177251],\n",
       "       [-0.00344271,  0.02177251],\n",
       "       [-0.00344271,  0.02177251],\n",
       "       [-0.00344271,  0.02177251],\n",
       "       [-0.00344271,  0.02177251],\n",
       "       [-0.00344271,  0.02177251],\n",
       "       [-0.00344271,  0.02177251],\n",
       "       [-0.00344271,  0.02177251],\n",
       "       [-0.00344271,  0.02177251],\n",
       "       [-0.00344271,  0.02177251],\n",
       "       [-0.00344271,  0.02177251],\n",
       "       [-0.00344271,  0.02177251],\n",
       "       [-0.00344271,  0.02177251],\n",
       "       [-0.00344271,  0.02177251],\n",
       "       [-0.00344271,  0.02177251],\n",
       "       [-0.00344271,  0.02177251],\n",
       "       [-0.00344271,  0.02177251],\n",
       "       [-0.00344271,  0.02177251],\n",
       "       [-0.00344271,  0.02177251],\n",
       "       [-0.00344271,  0.02177251],\n",
       "       [-0.00344271,  0.02177251],\n",
       "       [-0.00344271,  0.02177251],\n",
       "       [-0.00344271,  0.02177251],\n",
       "       [-0.00344271,  0.02177251],\n",
       "       [-0.00344271,  0.02177251],\n",
       "       [-0.00344271,  0.02177251],\n",
       "       [-0.00344271,  0.02177251],\n",
       "       [-0.00344271,  0.02177251],\n",
       "       [-0.00344271,  0.02177251],\n",
       "       [-0.00344271,  0.02177251],\n",
       "       [-0.00344271,  0.02177251],\n",
       "       [-0.00344271,  0.02177251],\n",
       "       [-0.00344271,  0.02177251],\n",
       "       [-0.00344271,  0.02177251],\n",
       "       [-0.00344271,  0.02177251],\n",
       "       [-0.00344271,  0.02177251]], dtype=float32)>"
      ]
     },
     "execution_count": 15,
     "metadata": {},
     "output_type": "execute_result"
    }
   ],
   "source": [
    "a(state)"
   ]
  },
  {
   "cell_type": "code",
   "execution_count": 16,
   "metadata": {},
   "outputs": [
    {
     "data": {
      "text/plain": [
       "<tf.Tensor: shape=(64, 1), dtype=float32, numpy=\n",
       "array([[-0.03718539],\n",
       "       [-0.03718539],\n",
       "       [-0.03718539],\n",
       "       [-0.03718539],\n",
       "       [-0.03718539],\n",
       "       [-0.03718539],\n",
       "       [-0.03718539],\n",
       "       [-0.03718539],\n",
       "       [-0.03718539],\n",
       "       [-0.03718539],\n",
       "       [-0.03718539],\n",
       "       [-0.03718539],\n",
       "       [-0.03718539],\n",
       "       [-0.03718539],\n",
       "       [-0.03718539],\n",
       "       [-0.03718539],\n",
       "       [-0.03718539],\n",
       "       [-0.03718539],\n",
       "       [-0.03718539],\n",
       "       [-0.03718539],\n",
       "       [-0.03718539],\n",
       "       [-0.03718539],\n",
       "       [-0.03718539],\n",
       "       [-0.03718539],\n",
       "       [-0.03718539],\n",
       "       [-0.03718539],\n",
       "       [-0.03718539],\n",
       "       [-0.03718539],\n",
       "       [-0.03718539],\n",
       "       [-0.03718539],\n",
       "       [-0.03718539],\n",
       "       [-0.03718539],\n",
       "       [-0.03718539],\n",
       "       [-0.03718539],\n",
       "       [-0.03718539],\n",
       "       [-0.03718539],\n",
       "       [-0.03718539],\n",
       "       [-0.03718539],\n",
       "       [-0.03718539],\n",
       "       [-0.03718539],\n",
       "       [-0.03718539],\n",
       "       [-0.03718539],\n",
       "       [-0.03718539],\n",
       "       [-0.03718539],\n",
       "       [-0.03718539],\n",
       "       [-0.03718539],\n",
       "       [-0.03718539],\n",
       "       [-0.03718539],\n",
       "       [-0.03718539],\n",
       "       [-0.03718539],\n",
       "       [-0.03718539],\n",
       "       [-0.03718539],\n",
       "       [-0.03718539],\n",
       "       [-0.03718539],\n",
       "       [-0.03718539],\n",
       "       [-0.03718539],\n",
       "       [-0.03718539],\n",
       "       [-0.03718539],\n",
       "       [-0.03718539],\n",
       "       [-0.03718539],\n",
       "       [-0.03718539],\n",
       "       [-0.03718539],\n",
       "       [-0.03718539],\n",
       "       [-0.03718539]], dtype=float32)>"
      ]
     },
     "execution_count": 16,
     "metadata": {},
     "output_type": "execute_result"
    }
   ],
   "source": [
    "c(state, action)"
   ]
  },
  {
   "cell_type": "code",
   "execution_count": null,
   "metadata": {},
   "outputs": [],
   "source": []
  }
 ],
 "metadata": {
  "kernelspec": {
   "display_name": "Python 3",
   "language": "python",
   "name": "python3"
  },
  "language_info": {
   "codemirror_mode": {
    "name": "ipython",
    "version": 3
   },
   "file_extension": ".py",
   "mimetype": "text/x-python",
   "name": "python",
   "nbconvert_exporter": "python",
   "pygments_lexer": "ipython3",
   "version": "3.8.5"
  }
 },
 "nbformat": 4,
 "nbformat_minor": 4
}
