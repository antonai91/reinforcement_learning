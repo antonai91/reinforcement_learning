{
 "cells": [
  {
   "cell_type": "code",
   "execution_count": 1,
   "metadata": {},
   "outputs": [],
   "source": [
    "import sys\n",
    "sys.path.append(\"../src/\")\n",
    "from plugin_write_and_run import write_and_run"
   ]
  },
  {
   "cell_type": "code",
   "execution_count": 2,
   "metadata": {},
   "outputs": [],
   "source": [
    "import wandb"
   ]
  },
  {
   "cell_type": "code",
   "execution_count": 3,
   "metadata": {},
   "outputs": [],
   "source": [
    "%%write_and_run ../src/main.py\n",
    "#!/usr/bin/python\n",
    "\n",
    "import sys\n",
    "sys.path.append(\"../src/\")\n",
    "import gym\n",
    "import random\n",
    "import time\n",
    "from config import *\n",
    "from dddqn_agent import *\n",
    "from dueling_dqn_network import *\n",
    "from pong_wrapper import *\n",
    "from process_image import *\n",
    "from replay_buffer import *\n",
    "from utilities import *"
   ]
  },
  {
   "cell_type": "code",
   "execution_count": 4,
   "metadata": {},
   "outputs": [],
   "source": [
    "config = dict (\n",
    "  learning_rate = 0.00025,\n",
    "  batch_size = 32,\n",
    "  architecture = \"DDDQN\",\n",
    "  infra = \"Local\"\n",
    ")"
   ]
  },
  {
   "cell_type": "code",
   "execution_count": 5,
   "metadata": {},
   "outputs": [
    {
     "name": "stderr",
     "output_type": "stream",
     "text": [
      "\u001b[34m\u001b[1mwandb\u001b[0m: Currently logged in as: \u001b[33manton-ai\u001b[0m (use `wandb login --relogin` to force relogin)\n"
     ]
    },
    {
     "data": {
      "text/html": [
       "\n",
       "                Tracking run with wandb version 0.10.12<br/>\n",
       "                Syncing run <strong style=\"color:#cdcd00\">dry-lion-7</strong> to <a href=\"https://wandb.ai\" target=\"_blank\">Weights & Biases</a> <a href=\"https://docs.wandb.com/integrations/jupyter.html\" target=\"_blank\">(Documentation)</a>.<br/>\n",
       "                Project page: <a href=\"https://wandb.ai/anton-ai/tensorflow2_pong\" target=\"_blank\">https://wandb.ai/anton-ai/tensorflow2_pong</a><br/>\n",
       "                Run page: <a href=\"https://wandb.ai/anton-ai/tensorflow2_pong/runs/3b08h5gx\" target=\"_blank\">https://wandb.ai/anton-ai/tensorflow2_pong/runs/3b08h5gx</a><br/>\n",
       "                Run data is saved locally in <code>/Users/anton/Projects/reinforcement_learning/ddqn/nbs/wandb/run-20210102_200636-3b08h5gx</code><br/><br/>\n",
       "            "
      ],
      "text/plain": [
       "<IPython.core.display.HTML object>"
      ]
     },
     "metadata": {},
     "output_type": "display_data"
    },
    {
     "data": {
      "text/html": [
       "<h1>Run(3b08h5gx)</h1><p></p><iframe src=\"https://wandb.ai/anton-ai/tensorflow2_pong/runs/3b08h5gx\" style=\"border:none;width:100%;height:400px\"></iframe>"
      ],
      "text/plain": [
       "<wandb.sdk.wandb_run.Run at 0x7fd4dace1c70>"
      ]
     },
     "execution_count": 5,
     "metadata": {},
     "output_type": "execute_result"
    }
   ],
   "source": [
    "wandb.init(\n",
    "  project=\"tensorflow2_pong\",\n",
    "  tags=[\"DDDQN\", \"CNN\", \"RL\"],\n",
    "  config=config,\n",
    ")"
   ]
  },
  {
   "cell_type": "code",
   "execution_count": 6,
   "metadata": {},
   "outputs": [
    {
     "name": "stdout",
     "output_type": "stream",
     "text": [
      "The environment has the following 6 actions: ['NOOP', 'FIRE', 'RIGHT', 'LEFT', 'RIGHTFIRE', 'LEFTFIRE']\n"
     ]
    }
   ],
   "source": [
    "%%write_and_run -a ../src/main.py\n",
    "\n",
    "pong_wrapper = PongWrapper(ENV_NAME, NO_OP_STEPS)\n",
    "print(\"The environment has the following {} actions: {}\".format(pong_wrapper.env.action_space.n, pong_wrapper.env.unwrapped.get_action_meanings()))"
   ]
  },
  {
   "cell_type": "code",
   "execution_count": 7,
   "metadata": {},
   "outputs": [],
   "source": [
    "%%write_and_run -a ../src/main.py\n",
    "\n",
    "MAIN_DQN = build_q_network(pong_wrapper.env.action_space.n, LEARNING_RATE, input_shape=INPUT_SHAPE)\n",
    "TARGET_DQN = build_q_network(pong_wrapper.env.action_space.n, input_shape=INPUT_SHAPE)\n",
    "\n",
    "replay_buffer = ReplayBuffer(size=MEMORY_SIZE, input_shape=INPUT_SHAPE)\n",
    "dddqn_agent = DDDQN_AGENT(MAIN_DQN, TARGET_DQN, replay_buffer, pong_wrapper.env.action_space.n, \n",
    "                    input_shape=INPUT_SHAPE, batch_size=BATCH_SIZE, \n",
    "                   replay_buffer_start_size=REPLAY_MEMORY_START_SIZE,\n",
    "                   max_frames=MAX_FRAMES)"
   ]
  },
  {
   "cell_type": "code",
   "execution_count": 8,
   "metadata": {},
   "outputs": [],
   "source": [
    "%%write_and_run -a ../src/main.py\n",
    "\n",
    "if PATH_LOAD_MODEL is not None:\n",
    "    start_time = time.time()\n",
    "    print('Loading model and info from the folder ', LOAD_FROM)\n",
    "    info = dddqn_agent.load(LOAD_FROM, LOAD_REPLAY_BUFFER)\n",
    "\n",
    "    # Apply information loaded from meta\n",
    "    frame_number = info['frame_number']\n",
    "    rewards = info['rewards']\n",
    "    loss_list = info['loss_list']\n",
    "\n",
    "    print(f'Loaded in {time.time() - start_time:.1f} seconds')\n",
    "else:\n",
    "    frame_number = 0\n",
    "    rewards = []\n",
    "    loss_list = []"
   ]
  },
  {
   "cell_type": "code",
   "execution_count": 9,
   "metadata": {},
   "outputs": [],
   "source": [
    "%%write_and_run -a ../src/main.py\n",
    "\n",
    "def main():\n",
    "    global frame_number, rewards, loss_list\n",
    "    while frame_number < MAX_FRAMES:\n",
    "        epoch_frame = 0\n",
    "        while epoch_frame < EVAL_FREQUENCY:\n",
    "            start_time = time.time()\n",
    "            pong_wrapper.reset()\n",
    "            episode_reward_sum = 0\n",
    "            for _ in range(MAX_EPISODE_LENGTH):\n",
    "                action = dddqn_agent.get_action(frame_number, pong_wrapper.state)\n",
    "                processed_frame, reward, terminal = pong_wrapper.step(action)\n",
    "                frame_number += 1\n",
    "                epoch_frame += 1\n",
    "                episode_reward_sum += reward\n",
    "\n",
    "                # Add experience to replay memory\n",
    "                dddqn_agent.add_experience(action=action,\n",
    "                                     frame=processed_frame[:, :, 0], # shape 84x84, remove last dimension\n",
    "                                     reward=reward, clip_reward=CLIP_REWARD,\n",
    "                                     terminal=terminal)\n",
    "\n",
    "                # Update agent\n",
    "                if frame_number % UPDATE_FREQ == 0 and dddqn_agent.replay_buffer.count > REPLAY_MEMORY_START_SIZE:\n",
    "                    loss, _ = dddqn_agent.learn(BATCH_SIZE, gamma=DISCOUNT_FACTOR)\n",
    "                    loss_list.append(loss)\n",
    "\n",
    "                # Update target network\n",
    "                if frame_number % NETW_UPDATE_FREQ == 0 and frame_number > REPLAY_MEMORY_START_SIZE:\n",
    "                    dddqn_agent.update_target_network()\n",
    "\n",
    "                # Break the loop when the game is over\n",
    "                if terminal:\n",
    "                    terminal = False\n",
    "                    break\n",
    "\n",
    "            rewards.append(episode_reward_sum)\n",
    "\n",
    "            wandb.log({'Game number': len(rewards), '# Frame': frame_number, '% Frame': round(frame_number / MAX_FRAMES, 2), \"Average reward\": round(np.mean(rewards[-10:]), 2), \\\n",
    "                      \"Time taken\": round(time.time() - start_time, 2)})\n",
    "        # Evaluation\n",
    "        terminal = True\n",
    "        eval_rewards = []\n",
    "        evaluate_frame_number = 0\n",
    "\n",
    "        for _ in range(EVAL_LENGTH):\n",
    "            if terminal:\n",
    "                game_wrapper.reset(evaluation=True)\n",
    "                life_lost = True\n",
    "                episode_reward_sum = 0\n",
    "                terminal = False\n",
    "\n",
    "            action = dddqn_agent.get_action(frame_number, pong_wrapper.state, evaluation=True)\n",
    "\n",
    "            # Step action\n",
    "            _, reward, terminal = pong_wrapper.step(action)\n",
    "            evaluate_frame_number += 1\n",
    "            episode_reward_sum += reward\n",
    "\n",
    "            # On game-over\n",
    "            if terminal:\n",
    "                eval_rewards.append(episode_reward_sum)\n",
    "\n",
    "        if len(eval_rewards) > 0:\n",
    "            final_score = np.mean(eval_rewards)\n",
    "        else:\n",
    "            # In case the first game is longer than EVAL_LENGHT\n",
    "            final_score = episode_reward_sum\n",
    "        # Log evaluation score\n",
    "        wandb.log({'# Frame': frame_number, '% Frame': round(frame_number / MAX_FRAMES, 2), 'Evaluation score': final_score})\n",
    "\n",
    "        # Save the networks, frame number, rewards and losses. \n",
    "        if len(rewards) > 500 and PATH_SAVE_MODEL is not None:\n",
    "            dddqn_agent.save(f'{PATH_SAVE_MODEL}/save_agent_{time.strftime(\"%Y%m%d%H%M\") + \"_\" + str(frame_number).zfill(8)}', \\\n",
    "                             frame_number=frame_number, rewards=rewards, loss_list=loss_list)"
   ]
  },
  {
   "cell_type": "code",
   "execution_count": 10,
   "metadata": {},
   "outputs": [
    {
     "name": "stdout",
     "output_type": "stream",
     "text": [
      "Appending to ../src/main.py\n"
     ]
    }
   ],
   "source": [
    "%%writefile -a ../src/main.py\n",
    "\n",
    "if __name__ == \"__main__\":\n",
    "    try:\n",
    "        main()\n",
    "    except KeyboardInterrupt:\n",
    "        # Save the model, I need this in order to save the networks, frame number, rewards and losses. \n",
    "        # if I want to stop the script and restart without training from the beginning\n",
    "        if PATH_SAVE_MODEL is None:\n",
    "            print(\"Setting path to ../model/\")\n",
    "            PATH_SAVE_MODEL = \"../model/\"\n",
    "        print('Saving the model...')\n",
    "        dddqn_agent.save(f'{PATH_SAVE_MODEL}/save_agent_{time.strftime(\"%Y%m%d%H%M\") + \"_\" + str(frame_number).zfill(8)}', \\\n",
    "                             frame_number=frame_number, rewards=rewards, loss_list=loss_list)\n",
    "        print('Saved.')"
   ]
  }
 ],
 "metadata": {
  "kernelspec": {
   "display_name": "Python 3",
   "language": "python",
   "name": "python3"
  },
  "language_info": {
   "codemirror_mode": {
    "name": "ipython",
    "version": 3
   },
   "file_extension": ".py",
   "mimetype": "text/x-python",
   "name": "python",
   "nbconvert_exporter": "python",
   "pygments_lexer": "ipython3",
   "version": "3.8.5"
  }
 },
 "nbformat": 4,
 "nbformat_minor": 4
}
