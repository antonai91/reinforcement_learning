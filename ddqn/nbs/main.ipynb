{
 "cells": [
  {
   "cell_type": "code",
   "execution_count": 1,
   "metadata": {},
   "outputs": [],
   "source": [
    "import sys\n",
    "sys.path.append(\"../src/\")\n",
    "from plugin_write_and_run import write_and_run"
   ]
  },
  {
   "cell_type": "code",
   "execution_count": 2,
   "metadata": {},
   "outputs": [],
   "source": [
    "%%write_and_run ../src/main.py\n",
    "#!/usr/bin/python\n",
    "\n",
    "import sys\n",
    "sys.path.append(\"../src/\")\n",
    "import gym\n",
    "import random\n",
    "import time\n",
    "from config import *\n",
    "from dddqn_agent import *\n",
    "from dueling_dqn_network import *\n",
    "from pong_wrapper import *\n",
    "from process_image import *\n",
    "from replay_buffer import *\n",
    "from utilities import *"
   ]
  },
  {
   "cell_type": "code",
   "execution_count": 3,
   "metadata": {},
   "outputs": [
    {
     "name": "stdout",
     "output_type": "stream",
     "text": [
      "The environment has the following 6 actions: ['NOOP', 'FIRE', 'RIGHT', 'LEFT', 'RIGHTFIRE', 'LEFTFIRE']\n"
     ]
    }
   ],
   "source": [
    "%%write_and_run -a ../src/main.py\n",
    "\n",
    "pong_wrapper = PongWrapper(ENV_NAME, NO_OP_STEPS)\n",
    "print(\"The environment has the following {} actions: {}\".format(pong_wrapper.env.action_space.n, pong_wrapper.env.unwrapped.get_action_meanings()))"
   ]
  },
  {
   "cell_type": "code",
   "execution_count": 4,
   "metadata": {},
   "outputs": [],
   "source": [
    "%%write_and_run -a ../src/main.py\n",
    "\n",
    "MAIN_DQN = build_q_network(pong_wrapper.env.action_space.n, LEARNING_RATE, input_shape=INPUT_SHAPE)\n",
    "TARGET_DQN = build_q_network(pong_wrapper.env.action_space.n, input_shape=INPUT_SHAPE)\n",
    "\n",
    "replay_buffer = ReplayBuffer(size=MEMORY_SIZE, input_shape=INPUT_SHAPE)\n",
    "dddqn_agent = DDDQN_AGENT(MAIN_DQN, TARGET_DQN, replay_buffer, pong_wrapper.env.action_space.n, \n",
    "                    input_shape=INPUT_SHAPE, batch_size=BATCH_SIZE, \n",
    "                   replay_buffer_start_size=REPLAY_MEMORY_START_SIZE,\n",
    "                   max_frames=MAX_FRAMES)"
   ]
  },
  {
   "cell_type": "code",
   "execution_count": 5,
   "metadata": {},
   "outputs": [],
   "source": [
    "%%write_and_run -a ../src/main.py\n",
    "\n",
    "if PATH_LOAD_MODEL is not None:\n",
    "    start_time = time.time()\n",
    "    print('Loading model and info from the folder ', LOAD_FROM)\n",
    "    info = dddqn_agent.load(LOAD_FROM, LOAD_REPLAY_BUFFER)\n",
    "\n",
    "    # Apply information loaded from meta\n",
    "    frame_number = info['frame_number']\n",
    "    rewards = info['rewards']\n",
    "    loss_list = info['loss_list']\n",
    "\n",
    "    print(f'Loaded in {time.time() - start_time:.1f} seconds')\n",
    "else:\n",
    "    frame_number = 0\n",
    "    rewards = []\n",
    "    loss_list = []"
   ]
  },
  {
   "cell_type": "code",
   "execution_count": null,
   "metadata": {},
   "outputs": [],
   "source": []
  }
 ],
 "metadata": {
  "kernelspec": {
   "display_name": "Python 3",
   "language": "python",
   "name": "python3"
  },
  "language_info": {
   "codemirror_mode": {
    "name": "ipython",
    "version": 3
   },
   "file_extension": ".py",
   "mimetype": "text/x-python",
   "name": "python",
   "nbconvert_exporter": "python",
   "pygments_lexer": "ipython3",
   "version": "3.8.5"
  }
 },
 "nbformat": 4,
 "nbformat_minor": 4
}
