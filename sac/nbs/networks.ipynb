{
 "cells": [
  {
   "cell_type": "code",
   "execution_count": 1,
   "metadata": {},
   "outputs": [],
   "source": [
    "import sys\n",
    "sys.path.append(\"../src\")\n",
    "from plugin_write_and_run import *"
   ]
  },
  {
   "cell_type": "code",
   "execution_count": 2,
   "metadata": {},
   "outputs": [],
   "source": [
    "%%write_and_run ../src/networks.py\n",
    "import sys\n",
    "sys.path.append(\"../src\")\n",
    "from replay_buffer import *\n",
    "from config import *\n",
    "import tensorflow as tf\n",
    "from tensorflow.keras.layers import Dense\n",
    "from tensorflow.keras.initializers import random_uniform\n",
    "import tensorflow_probability as tfp"
   ]
  },
  {
   "cell_type": "code",
   "execution_count": 3,
   "metadata": {},
   "outputs": [],
   "source": [
    "%%write_and_run -a ../src/networks.py\n",
    "\n",
    "class Critic(tf.keras.Model):\n",
    "    def __init__(self, name, hidden_0=CRITIC_HIDDEN_0, hidden_1=CRITIC_HIDDEN_1):\n",
    "        super(Critic, self).__init__()\n",
    "        \n",
    "        self.hidden_0 = hidden_0\n",
    "        self.hidden_1 = hidden_1\n",
    "\n",
    "        self.net_name = name\n",
    "\n",
    "        self.dense_0 = Dense(self.hidden_0, activation='relu')\n",
    "        self.dense_1 = Dense(self.hidden_1, activation='relu')\n",
    "        self.q_value = Dense(1, activation=None)\n",
    "\n",
    "    def call(self, state, action):\n",
    "        state_action_value = self.dense_0(tf.concat([state, action], axis=1))\n",
    "        state_action_value = self.dense_1(state_action_value)\n",
    "\n",
    "        q_value = self.q_value(state_action_value)\n",
    "\n",
    "        return q_value\n",
    "    \n",
    "class CriticValue(tf.keras.Model):\n",
    "    def __init__(self, name, hidden_0=CRITIC_HIDDEN_0, hidden_1=CRITIC_HIDDEN_1):\n",
    "        super(CriticValue, self).__init__()\n",
    "        \n",
    "        self.hidden_0 = hidden_0\n",
    "        self.hidden_1 = hidden_1\n",
    "\n",
    "        self.net_name = name\n",
    "\n",
    "        self.dense_0 = Dense(self.hidden_0, activation='relu')\n",
    "        self.dense_1 = Dense(self.hidden_1, activation='relu')\n",
    "        self.value = Dense(1, activation=None)\n",
    "\n",
    "    def call(self, state):\n",
    "        state_value = self.dense_0(state)\n",
    "        state_value = self.dense_1(state_value)\n",
    "\n",
    "        value = self.value(state_value)\n",
    "\n",
    "        return value\n",
    "\n",
    "class Actor(tf.keras.Model):\n",
    "    def __init__(self, name, actions_dim, upper_bound, hidden_0=CRITIC_HIDDEN_0, hidden_1=CRITIC_HIDDEN_1, noise=NOISE, log_std_min=LOG_STD_MIN, log_std_max=LOG_STD_MAX):\n",
    "        super(Actor, self).__init__()\n",
    "        self.hidden_0 = hidden_0\n",
    "        self.hidden_1 = hidden_1\n",
    "        self.actions_dim = actions_dim\n",
    "        self.upper_bound = upper_bound\n",
    "        self.noise = noise\n",
    "        \n",
    "        self.net_name = name\n",
    "\n",
    "        self.dense_0 = Dense(self.hidden_0, activation='relu')\n",
    "        self.dense_1 = Dense(self.hidden_1, activation='relu')\n",
    "        self.mean = Dense(self.actions_dim, activation=None)\n",
    "        self.std = Dense(self.actions_dim, activation=None)\n",
    "\n",
    "    def call(self, state):\n",
    "        policy = self.dense_0(state)\n",
    "        policy = self.dense_1(policy)\n",
    "        mean = self.mean(policy)\n",
    "        std = self.std(policy)\n",
    "\n",
    "        return mean, std\n",
    "    \n",
    "    def evaluate(self, state, reparameterization=False):\n",
    "        mean, std = self.call(state)\n",
    "        normal_mean_std = tfp.distributions.Normal(mean, std)\n",
    "        \n",
    "        if reparameterization:\n",
    "            actions = normal_mean_std.sample()\n",
    "        else:\n",
    "            actions = normal_mean_std.sample()\n",
    "            \n",
    "        actions = tf.math.tanh(actions)*self.upper_bound\n",
    "        \n",
    "        log_probs = normal_mean_std.log_prob(actions) - tf.math.log(1 - tf.math.pow(actions, 2) + self.noise)\n",
    "        log_probs = tf.math.reduce_sum(log_probs, axis=1, keepdims=True)\n",
    "        \n",
    "        return actions, log_probs"
   ]
  },
  {
   "cell_type": "code",
   "execution_count": 4,
   "metadata": {},
   "outputs": [],
   "source": [
    "import gym\n",
    "import numpy as np"
   ]
  },
  {
   "cell_type": "code",
   "execution_count": 5,
   "metadata": {},
   "outputs": [],
   "source": [
    "env = gym.make(ENV_NAME)\n",
    "upper_bound = env.action_space.high[0]\n",
    "lower_bound = env.action_space.low[0]\n",
    "action_dim = env.action_space.shape[0]\n",
    "actor = Actor(\"name\", action_dim, upper_bound)\n",
    "critic = Critic(\"name\")\n",
    "critic_value = CriticValue(\"name\")"
   ]
  },
  {
   "cell_type": "code",
   "execution_count": 6,
   "metadata": {},
   "outputs": [],
   "source": [
    "env = gym.make(ENV_NAME)"
   ]
  },
  {
   "cell_type": "code",
   "execution_count": 7,
   "metadata": {},
   "outputs": [],
   "source": [
    "rb = ReplayBuffer(env)"
   ]
  },
  {
   "cell_type": "code",
   "execution_count": 8,
   "metadata": {},
   "outputs": [
    {
     "data": {
      "text/plain": [
       "array([ 0.7620553 ,  0.64751194, -0.35071421])"
      ]
     },
     "execution_count": 8,
     "metadata": {},
     "output_type": "execute_result"
    }
   ],
   "source": [
    "env.reset()"
   ]
  },
  {
   "cell_type": "code",
   "execution_count": 9,
   "metadata": {},
   "outputs": [
    {
     "data": {
      "text/plain": [
       "Box(-2.0, 2.0, (1,), float32)"
      ]
     },
     "execution_count": 9,
     "metadata": {},
     "output_type": "execute_result"
    }
   ],
   "source": [
    "env.action_space"
   ]
  },
  {
   "cell_type": "code",
   "execution_count": 10,
   "metadata": {},
   "outputs": [],
   "source": [
    "action = np.array([-0.5])"
   ]
  },
  {
   "cell_type": "code",
   "execution_count": 11,
   "metadata": {},
   "outputs": [
    {
     "data": {
      "text/plain": [
       "-2.0"
      ]
     },
     "execution_count": 11,
     "metadata": {},
     "output_type": "execute_result"
    }
   ],
   "source": [
    "lower_bound"
   ]
  },
  {
   "cell_type": "code",
   "execution_count": 12,
   "metadata": {},
   "outputs": [],
   "source": [
    "state, reward, done, _ = env.step(action)"
   ]
  },
  {
   "cell_type": "code",
   "execution_count": 13,
   "metadata": {},
   "outputs": [],
   "source": [
    "for i in range(1000):\n",
    "    rb.add_record(state, action, reward, state, done)"
   ]
  },
  {
   "cell_type": "code",
   "execution_count": 14,
   "metadata": {},
   "outputs": [],
   "source": [
    "state, action, reward, next_state, done = rb.get_minibatch()"
   ]
  },
  {
   "cell_type": "code",
   "execution_count": 15,
   "metadata": {},
   "outputs": [
    {
     "data": {
      "text/plain": [
       "2.0"
      ]
     },
     "execution_count": 15,
     "metadata": {},
     "output_type": "execute_result"
    }
   ],
   "source": [
    "actor.upper_bound"
   ]
  },
  {
   "cell_type": "code",
   "execution_count": 16,
   "metadata": {},
   "outputs": [],
   "source": [
    "action, log_probs = actor.evaluate(state, False)"
   ]
  },
  {
   "cell_type": "code",
   "execution_count": 17,
   "metadata": {},
   "outputs": [
    {
     "data": {
      "text/plain": [
       "<tf.Tensor: shape=(64, 1), dtype=float32, numpy=\n",
       "array([[-497.86215],\n",
       "       [-610.0933 ],\n",
       "       [-698.148  ],\n",
       "       [-579.88385],\n",
       "       [-716.94037],\n",
       "       [-524.7273 ],\n",
       "       [-597.0488 ],\n",
       "       [-820.9631 ],\n",
       "       [-504.02206],\n",
       "       [-548.7138 ],\n",
       "       [-641.68805],\n",
       "       [-566.0127 ],\n",
       "       [-715.3209 ],\n",
       "       [-596.28595],\n",
       "       [-605.1497 ],\n",
       "       [-542.07526],\n",
       "       [-622.1418 ],\n",
       "       [-578.0609 ],\n",
       "       [-686.9125 ],\n",
       "       [-608.24963],\n",
       "       [-672.1221 ],\n",
       "       [-554.35345],\n",
       "       [-721.1798 ],\n",
       "       [-471.03934],\n",
       "       [-491.364  ],\n",
       "       [-516.0968 ],\n",
       "       [-410.65094],\n",
       "       [-624.62555],\n",
       "       [-622.8024 ],\n",
       "       [-666.7389 ],\n",
       "       [-476.46133],\n",
       "       [-675.2427 ],\n",
       "       [-559.51245],\n",
       "       [-651.2096 ],\n",
       "       [-666.64825],\n",
       "       [-601.14075],\n",
       "       [-496.1668 ],\n",
       "       [-686.37854],\n",
       "       [-547.9794 ],\n",
       "       [-525.89655],\n",
       "       [-606.85156],\n",
       "       [-571.5088 ],\n",
       "       [-576.0764 ],\n",
       "       [-571.0081 ],\n",
       "       [-535.10815],\n",
       "       [-612.6085 ],\n",
       "       [-524.61615],\n",
       "       [-570.05334],\n",
       "       [-587.89734],\n",
       "       [-655.0901 ],\n",
       "       [-584.457  ],\n",
       "       [-555.28204],\n",
       "       [-403.628  ],\n",
       "       [-537.38995],\n",
       "       [-538.20953],\n",
       "       [-697.8521 ],\n",
       "       [-579.6262 ],\n",
       "       [-647.99915],\n",
       "       [-522.76697],\n",
       "       [-524.2699 ],\n",
       "       [-755.13434],\n",
       "       [-570.7479 ],\n",
       "       [-642.33203],\n",
       "       [-574.6909 ]], dtype=float32)>"
      ]
     },
     "execution_count": 17,
     "metadata": {},
     "output_type": "execute_result"
    }
   ],
   "source": [
    "log_probs"
   ]
  },
  {
   "cell_type": "code",
   "execution_count": 18,
   "metadata": {},
   "outputs": [
    {
     "data": {
      "text/plain": [
       "<tf.Tensor: shape=(64, 1), dtype=float32, numpy=\n",
       "array([[0.01252018],\n",
       "       [0.0126493 ],\n",
       "       [0.01276033],\n",
       "       [0.01261003],\n",
       "       [0.01278349],\n",
       "       [0.01254734],\n",
       "       [0.01263246],\n",
       "       [0.01290666],\n",
       "       [0.01252819],\n",
       "       [0.01257222],\n",
       "       [0.01268939],\n",
       "       [0.01259161],\n",
       "       [0.01278151],\n",
       "       [0.01263146],\n",
       "       [0.01264295],\n",
       "       [0.01256538],\n",
       "       [0.01266471],\n",
       "       [0.01260761],\n",
       "       [0.01274632],\n",
       "       [0.01264695],\n",
       "       [0.01272772],\n",
       "       [0.012578  ],\n",
       "       [0.01278869],\n",
       "       [0.01248466],\n",
       "       [0.01251164],\n",
       "       [0.01253935],\n",
       "       [0.0124006 ],\n",
       "       [0.01266789],\n",
       "       [0.01266554],\n",
       "       [0.01272089],\n",
       "       [0.01249192],\n",
       "       [0.01273166],\n",
       "       [0.01258332],\n",
       "       [0.01270127],\n",
       "       [0.01272078],\n",
       "       [0.01263776],\n",
       "       [0.01251794],\n",
       "       [0.01274564],\n",
       "       [0.01257146],\n",
       "       [0.01254856],\n",
       "       [0.01264514],\n",
       "       [0.01259894],\n",
       "       [0.01260499],\n",
       "       [0.01259825],\n",
       "       [0.01255818],\n",
       "       [0.01265253],\n",
       "       [0.01254721],\n",
       "       [0.012597  ],\n",
       "       [0.01262051],\n",
       "       [0.01270612],\n",
       "       [0.01261602],\n",
       "       [0.01257892],\n",
       "       [0.01239045],\n",
       "       [0.01256053],\n",
       "       [0.01256137],\n",
       "       [0.01275994],\n",
       "       [0.01260967],\n",
       "       [0.01269729],\n",
       "       [0.01254528],\n",
       "       [0.01254685],\n",
       "       [0.01282969],\n",
       "       [0.01259792],\n",
       "       [0.01269021],\n",
       "       [0.01260314]], dtype=float32)>"
      ]
     },
     "execution_count": 18,
     "metadata": {},
     "output_type": "execute_result"
    }
   ],
   "source": [
    "critic(state, action)"
   ]
  },
  {
   "cell_type": "code",
   "execution_count": 19,
   "metadata": {},
   "outputs": [
    {
     "data": {
      "text/plain": [
       "<tf.Tensor: shape=(64, 1), dtype=float32, numpy=\n",
       "array([[0.02027844],\n",
       "       [0.02027844],\n",
       "       [0.02027844],\n",
       "       [0.02027844],\n",
       "       [0.02027844],\n",
       "       [0.02027844],\n",
       "       [0.02027844],\n",
       "       [0.02027844],\n",
       "       [0.02027844],\n",
       "       [0.02027844],\n",
       "       [0.02027844],\n",
       "       [0.02027844],\n",
       "       [0.02027844],\n",
       "       [0.02027844],\n",
       "       [0.02027844],\n",
       "       [0.02027844],\n",
       "       [0.02027844],\n",
       "       [0.02027844],\n",
       "       [0.02027844],\n",
       "       [0.02027844],\n",
       "       [0.02027844],\n",
       "       [0.02027844],\n",
       "       [0.02027844],\n",
       "       [0.02027844],\n",
       "       [0.02027844],\n",
       "       [0.02027844],\n",
       "       [0.02027844],\n",
       "       [0.02027844],\n",
       "       [0.02027844],\n",
       "       [0.02027844],\n",
       "       [0.02027844],\n",
       "       [0.02027844],\n",
       "       [0.02027844],\n",
       "       [0.02027844],\n",
       "       [0.02027844],\n",
       "       [0.02027844],\n",
       "       [0.02027844],\n",
       "       [0.02027844],\n",
       "       [0.02027844],\n",
       "       [0.02027844],\n",
       "       [0.02027844],\n",
       "       [0.02027844],\n",
       "       [0.02027844],\n",
       "       [0.02027844],\n",
       "       [0.02027844],\n",
       "       [0.02027844],\n",
       "       [0.02027844],\n",
       "       [0.02027844],\n",
       "       [0.02027844],\n",
       "       [0.02027844],\n",
       "       [0.02027844],\n",
       "       [0.02027844],\n",
       "       [0.02027844],\n",
       "       [0.02027844],\n",
       "       [0.02027844],\n",
       "       [0.02027844],\n",
       "       [0.02027844],\n",
       "       [0.02027844],\n",
       "       [0.02027844],\n",
       "       [0.02027844],\n",
       "       [0.02027844],\n",
       "       [0.02027844],\n",
       "       [0.02027844],\n",
       "       [0.02027844]], dtype=float32)>"
      ]
     },
     "execution_count": 19,
     "metadata": {},
     "output_type": "execute_result"
    }
   ],
   "source": [
    "critic_value(state)"
   ]
  }
 ],
 "metadata": {
  "kernelspec": {
   "display_name": "Python 3",
   "language": "python",
   "name": "python3"
  },
  "language_info": {
   "codemirror_mode": {
    "name": "ipython",
    "version": 3
   },
   "file_extension": ".py",
   "mimetype": "text/x-python",
   "name": "python",
   "nbconvert_exporter": "python",
   "pygments_lexer": "ipython3",
   "version": "3.8.5"
  }
 },
 "nbformat": 4,
 "nbformat_minor": 4
}
