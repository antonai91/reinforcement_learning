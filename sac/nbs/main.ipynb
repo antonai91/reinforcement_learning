{
 "cells": [
  {
   "cell_type": "code",
   "execution_count": null,
   "metadata": {},
   "outputs": [],
   "source": [
    "import sys\n",
    "sys.path.append(\"../src\")\n",
    "from plugin_write_and_run import *"
   ]
  },
  {
   "cell_type": "code",
   "execution_count": null,
   "metadata": {},
   "outputs": [],
   "source": [
    "%%write_and_run ../src/main.py\n",
    "#!/usr/bin/python\n",
    "\n",
    "import sys\n",
    "sys.path.append(\"../src\")\n",
    "import gym\n",
    "import tensorflow as tf\n",
    "import numpy as np\n",
    "from tqdm import tqdm\n",
    "import wandb\n",
    "from config import *\n",
    "from replay_buffer import *\n",
    "from networks import *\n",
    "from agent import *"
   ]
  },
  {
   "cell_type": "code",
   "execution_count": null,
   "metadata": {},
   "outputs": [],
   "source": [
    "%%write_and_run -a ../src/main.py\n",
    "\n",
    "config = dict(\n",
    "  learning_rate_actor = ACTOR_LR,\n",
    "  learning_rate_critic = ACTOR_LR,\n",
    "  batch_size = BATCH_SIZE,\n",
    "  architecture = \"DDPG\",\n",
    "  infra = \"Ubuntu\",\n",
    "  env = ENV_NAME\n",
    ")"
   ]
  },
  {
   "cell_type": "code",
   "execution_count": null,
   "metadata": {},
   "outputs": [],
   "source": [
    "%%write_and_run -a ../src/main.py\n",
    "\n",
    "wandb.init(\n",
    "  project=f\"tensorflow2_sac_{ENV_NAME.lower()}\",\n",
    "  tags=[\"DDPG\", \"FCL\", \"RL\"],\n",
    "  config=config,\n",
    ")"
   ]
  },
  {
   "cell_type": "code",
   "execution_count": null,
   "metadata": {},
   "outputs": [],
   "source": [
    "%%write_and_run -a ../src/main.py\n",
    "\n",
    "env = gym.make(ENV_NAME)\n",
    "agent = Agent(env)\n",
    "\n",
    "scores = []\n",
    "evaluation = True"
   ]
  },
  {
   "cell_type": "code",
   "execution_count": null,
   "metadata": {},
   "outputs": [],
   "source": [
    "%%write_and_run -a ../src/main.py\n",
    "\n",
    "if PATH_LOAD is not None:\n",
    "    print(\"loading weights\")\n",
    "    observation = env.reset()\n",
    "    action = agent.actor(observation[None, :])\n",
    "    agent.target_actor(observation[None, :])\n",
    "    agent.critic(observation[None, :], action)\n",
    "    agent.target_critic(observation[None, :], action)\n",
    "    agent.load()\n",
    "    print(agent.replay_buffer.buffer_counter)\n",
    "    print(agent.replay_buffer.n_games)\n",
    "    print(agent.noise)"
   ]
  },
  {
   "cell_type": "code",
   "execution_count": null,
   "metadata": {},
   "outputs": [],
   "source": [
    "%%write_and_run -a ../src/main.py\n",
    "\n",
    "for _ in tqdm(range(MAX_GAMES)):\n",
    "    start_time = time.time()\n",
    "    states = env.reset()\n",
    "    done = False\n",
    "    score = 0\n",
    "    while not done:\n",
    "        action = agent.get_action(states)\n",
    "        new_states, reward, done, info = env.step(action)\n",
    "        score += reward\n",
    "        agent.add_to_replay_buffer(states, action, reward, new_states, done)\n",
    "        agent.learn()\n",
    "        states = new_states\n",
    "    \n",
    "    scores.append(score)\n",
    "    agent.replay_buffer.update_n_games()\n",
    "\n",
    "    wandb.log({'Game number': agent.replay_buffer.n_games, '# Episodes': agent.replay_buffer.buffer_counter, \n",
    "               \"Average reward\": round(np.mean(scores[-10:]), 2), \\\n",
    "                      \"Time taken\": round(time.time() - start_time, 2)})\n",
    "\n",
    "\"\"\"\n",
    "    if (_ + 1) % SAVE_FREQUENCY == 0:\n",
    "        print(\"saving...\")\n",
    "        agent.save()\n",
    "        print(\"saved\")\n",
    "\"\"\""
   ]
  },
  {
   "cell_type": "code",
   "execution_count": null,
   "metadata": {},
   "outputs": [],
   "source": []
  }
 ],
 "metadata": {
  "kernelspec": {
   "display_name": "Python 3",
   "language": "python",
   "name": "python3"
  },
  "language_info": {
   "codemirror_mode": {
    "name": "ipython",
    "version": 3
   },
   "file_extension": ".py",
   "mimetype": "text/x-python",
   "name": "python",
   "nbconvert_exporter": "python",
   "pygments_lexer": "ipython3",
   "version": "3.8.5"
  }
 },
 "nbformat": 4,
 "nbformat_minor": 4
}
