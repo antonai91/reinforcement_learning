{
 "cells": [
  {
   "cell_type": "code",
   "execution_count": 1,
   "metadata": {},
   "outputs": [],
   "source": [
    "import sys\n",
    "sys.path.append(\"../src/\")\n",
    "import gym\n",
    "import matplotlib.pyplot as plt\n",
    "import imageio\n",
    "import random\n",
    "import base64\n",
    "import IPython\n",
    "from config import ENV_NAME\n",
    "from plugin_write_and_run import write_and_run"
   ]
  },
  {
   "cell_type": "code",
   "execution_count": 2,
   "metadata": {},
   "outputs": [],
   "source": [
    "%%write_and_run ../src/process_image.py\n",
    "import cv2\n",
    "import numpy as np"
   ]
  },
  {
   "cell_type": "code",
   "execution_count": 3,
   "metadata": {},
   "outputs": [],
   "source": [
    "%%write_and_run ../src/utilities.py\n",
    "import base64\n",
    "import IPython\n",
    "\n",
    "def embed_mp4(filename):\n",
    "  \"\"\"Embeds an mp4 file in the notebook.\"\"\"\n",
    "  video = open(filename,'rb').read()\n",
    "  b64 = base64.b64encode(video)\n",
    "  tag = '''\n",
    "  <video width=\"640\" height=\"480\" controls>\n",
    "    <source src=\"data:video/mp4;base64,{0}\" type=\"video/mp4\">\n",
    "  Your browser does not support the video tag.\n",
    "  </video>'''.format(b64.decode())\n",
    "\n",
    "  return IPython.display.HTML(tag)"
   ]
  },
  {
   "cell_type": "code",
   "execution_count": 4,
   "metadata": {},
   "outputs": [],
   "source": [
    "%%write_and_run -a ../src/process_image.py\n",
    "\n",
    "# This function can resize to any shape, but was built to resize to 84x84\n",
    "def process_image(image, shape=(84, 84)):\n",
    "    \"\"\"Preprocesses a 210x160x3 frame to 84x84x1 grayscale\n",
    "\n",
    "    Arguments:\n",
    "        frame: The frame to process.  Must have values ranging from 0-255\n",
    "\n",
    "    Returns:\n",
    "        The processed frame\n",
    "    \"\"\"\n",
    "    image = image.astype(np.uint8)  # cv2 requires np.uint8\n",
    "\n",
    "    image = cv2.cvtColor(image, cv2.COLOR_RGB2GRAY)\n",
    "    image = image[34:34+160, :160]  # crop image\n",
    "    image = cv2.resize(image, shape, interpolation=cv2.INTER_NEAREST)\n",
    "    image = image.reshape((*shape, 1))\n",
    "\n",
    "    return image"
   ]
  }
 ],
 "metadata": {
  "kernelspec": {
   "display_name": "Python 3",
   "language": "python",
   "name": "python3"
  },
  "language_info": {
   "codemirror_mode": {
    "name": "ipython",
    "version": 3
   },
   "file_extension": ".py",
   "mimetype": "text/x-python",
   "name": "python",
   "nbconvert_exporter": "python",
   "pygments_lexer": "ipython3",
   "version": "3.8.5"
  }
 },
 "nbformat": 4,
 "nbformat_minor": 4
}
