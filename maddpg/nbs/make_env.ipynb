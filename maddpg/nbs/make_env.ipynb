{
 "cells": [
  {
   "cell_type": "code",
   "execution_count": 3,
   "id": "received-swing",
   "metadata": {},
   "outputs": [],
   "source": [
    "import sys\n",
    "sys.path.append(\"../src/\")\n",
    "\n",
    "from plugin_write_and_run import *"
   ]
  },
  {
   "cell_type": "code",
   "execution_count": 4,
   "id": "informal-forth",
   "metadata": {},
   "outputs": [],
   "source": [
    "%%write_and_run ../src/make_env.py\n",
    "def make_env(scenario_name, benchmark=False):\n",
    "    '''\n",
    "    Creates a MultiAgentEnv object as env. This can be used similar to a gym\n",
    "    environment by calling env.reset() and env.step().\n",
    "    Use env.render() to view the environment on the screen.\n",
    "    Input:\n",
    "        scenario_name   :   name of the scenario from ./scenarios/ to be Returns\n",
    "                            (without the .py extension)\n",
    "        benchmark       :   whether you want to produce benchmarking data\n",
    "                            (usually only done during evaluation)\n",
    "    Some useful env properties (see environment.py):\n",
    "        .observation_space  :   Returns the observation space for each agent\n",
    "        .action_space       :   Returns the action space for each agent\n",
    "        .n                  :   Returns the number of Agents\n",
    "    '''\n",
    "    from multiagent.environment import MultiAgentEnv\n",
    "    import multiagent.scenarios as scenarios\n",
    "\n",
    "    # load scenario from script\n",
    "    scenario = scenarios.load(scenario_name + \".py\").Scenario()\n",
    "    # create world\n",
    "    world = scenario.make_world()\n",
    "    # create multiagent environment\n",
    "    if benchmark:        \n",
    "        env = MultiAgentEnv(world, scenario.reset_world, scenario.reward, scenario.observation, scenario.benchmark_data)\n",
    "    else:\n",
    "        env = MultiAgentEnv(world, scenario.reset_world, scenario.reward, scenario.observation)\n",
    "    return env"
   ]
  },
  {
   "cell_type": "code",
   "execution_count": null,
   "id": "complimentary-small",
   "metadata": {},
   "outputs": [],
   "source": []
  }
 ],
 "metadata": {
  "kernelspec": {
   "display_name": "Python 3",
   "language": "python",
   "name": "python3"
  },
  "language_info": {
   "codemirror_mode": {
    "name": "ipython",
    "version": 3
   },
   "file_extension": ".py",
   "mimetype": "text/x-python",
   "name": "python",
   "nbconvert_exporter": "python",
   "pygments_lexer": "ipython3",
   "version": "3.8.8"
  }
 },
 "nbformat": 4,
 "nbformat_minor": 5
}
