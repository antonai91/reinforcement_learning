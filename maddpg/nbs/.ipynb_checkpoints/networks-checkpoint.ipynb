{
 "cells": [
  {
   "cell_type": "code",
   "execution_count": 1,
   "id": "previous-civilization",
   "metadata": {},
   "outputs": [],
   "source": [
    "import sys\n",
    "sys.path.append(\"../src/\")"
   ]
  },
  {
   "cell_type": "code",
   "execution_count": 2,
   "id": "demographic-allergy",
   "metadata": {},
   "outputs": [],
   "source": [
    "from plugin_write_and_run import *"
   ]
  },
  {
   "cell_type": "code",
   "execution_count": 3,
   "id": "naked-ordinary",
   "metadata": {},
   "outputs": [],
   "source": [
    "%%write_and_run ../src/networks.py\n",
    "import numpy as np\n",
    "import json\n",
    "import tensorflow as tf\n",
    "from tensorflow.keras.layers import Dense\n",
    "from tensorflow.keras.initializers import random_uniform\n",
    "import sys\n",
    "sys.path.append(\"../src\")\n",
    "from config import *"
   ]
  },
  {
   "cell_type": "code",
   "execution_count": 4,
   "id": "emotional-affair",
   "metadata": {},
   "outputs": [],
   "source": [
    "%%write_and_run -a ../src/networks.py\n",
    "\n",
    "class Critic(tf.keras.Model):\n",
    "    def __init__(self, name, hidden_0=CRITIC_HIDDEN_0, hidden_1=CRITIC_HIDDEN_1):\n",
    "            \n",
    "        super(Critic, self).__init__()\n",
    "        \n",
    "        self.hidden_0 = hidden_0\n",
    "        self.hidden_1 = hidden_1\n",
    "\n",
    "        self.net_name = name\n",
    "\n",
    "        self.dense_0 = Dense(self.hidden_0, activation='relu')\n",
    "        self.dense_1 = Dense(self.hidden_1, activation='relu')\n",
    "        self.q_value = Dense(1, activation=None)\n",
    "    \n",
    "    def call(self, state, actors_actions):\n",
    "        state_action_value = self.dense_0(tf.concat([state, actors_actions], axis=1)) # multiple actions\n",
    "        state_action_value = self.dense_1(state_action_value)\n",
    "\n",
    "        q_value = self.q_value(state_action_value)\n",
    "\n",
    "        return q_value"
   ]
  },
  {
   "cell_type": "code",
   "execution_count": 5,
   "id": "smoking-sailing",
   "metadata": {},
   "outputs": [],
   "source": [
    "%%write_and_run -a ../src/networks.py\n",
    "\n",
    "class Actor(tf.keras.Model):\n",
    "    def __init__(self, name, actions_dim, hidden_0=ACTOR_HIDDEN_0, hidden_1=ACTOR_HIDDEN_1):\n",
    "        super(Actor, self).__init__()\n",
    "        self.hidden_0 = hidden_0\n",
    "        self.hidden_1 = hidden_1\n",
    "        self.actions_dim = actions_dim\n",
    "        \n",
    "        self.net_name = name\n",
    "\n",
    "        self.dense_0 = Dense(self.hidden_0, activation='relu')\n",
    "        self.dense_1 = Dense(self.hidden_1, activation='relu')\n",
    "        self.policy = Dense(self.actions_dim, activation='sigmoid') # we want something beetween zero and one\n",
    "\n",
    "    def call(self, state):\n",
    "        x = self.dense_0(state)\n",
    "        policy = self.dense_1(x)\n",
    "        policy = self.policy(policy)\n",
    "        return policy"
   ]
  },
  {
   "cell_type": "code",
   "execution_count": 6,
   "id": "virgin-station",
   "metadata": {},
   "outputs": [],
   "source": [
    "from make_env import *\n",
    "from replay_buffer import *"
   ]
  },
  {
   "cell_type": "code",
   "execution_count": 7,
   "id": "welcome-twelve",
   "metadata": {},
   "outputs": [],
   "source": [
    "env = make_env(ENV_NAME)"
   ]
  },
  {
   "cell_type": "code",
   "execution_count": 8,
   "id": "nasty-speaker",
   "metadata": {},
   "outputs": [],
   "source": [
    "rb = ReplayBuffer(env)"
   ]
  },
  {
   "cell_type": "code",
   "execution_count": 9,
   "id": "stretch-fruit",
   "metadata": {},
   "outputs": [],
   "source": [
    "for i in range(100):\n",
    "    actors_state, reward, done, info = env.step([[1, 2, 3, 4, 5], [1, 2, 3, 4, 5], [1, 2, 3, 4, 5]])\n",
    "    state = np.concatenate(actors_state)\n",
    "    rb.add_record(actors_state, actors_state, [[1, 2, 3, 4, 5], [1, 2, 3, 4, 5], [1, 2, 3, 4, 5]], state, state, reward, done)"
   ]
  },
  {
   "cell_type": "code",
   "execution_count": 10,
   "id": "antique-tooth",
   "metadata": {},
   "outputs": [],
   "source": [
    "state, reward, next_state, done, actors_state, actors_new_state, actors_action = rb.get_minibatch()"
   ]
  },
  {
   "cell_type": "code",
   "execution_count": 11,
   "id": "exclusive-leather",
   "metadata": {},
   "outputs": [
    {
     "data": {
      "text/plain": [
       "((64, 28), (64, 3), (64, 28), (64, 3))"
      ]
     },
     "execution_count": 11,
     "metadata": {},
     "output_type": "execute_result"
    }
   ],
   "source": [
    "state.shape, reward.shape, next_state.shape, done.shape"
   ]
  },
  {
   "cell_type": "code",
   "execution_count": 12,
   "id": "ethical-bermuda",
   "metadata": {},
   "outputs": [
    {
     "data": {
      "text/plain": [
       "[Box(-inf, inf, (8,), float32),\n",
       " Box(-inf, inf, (10,), float32),\n",
       " Box(-inf, inf, (10,), float32)]"
      ]
     },
     "execution_count": 12,
     "metadata": {},
     "output_type": "execute_result"
    }
   ],
   "source": [
    "env.observation_space"
   ]
  },
  {
   "cell_type": "code",
   "execution_count": 13,
   "id": "potential-italian",
   "metadata": {},
   "outputs": [],
   "source": [
    "critic = Critic(\"critic\")"
   ]
  },
  {
   "cell_type": "code",
   "execution_count": 14,
   "id": "structured-groove",
   "metadata": {},
   "outputs": [
    {
     "data": {
      "text/plain": [
       "(3, 64, 5)"
      ]
     },
     "execution_count": 14,
     "metadata": {},
     "output_type": "execute_result"
    }
   ],
   "source": [
    "np.array(actors_action).shape"
   ]
  },
  {
   "cell_type": "code",
   "execution_count": 15,
   "id": "coated-opportunity",
   "metadata": {},
   "outputs": [
    {
     "data": {
      "text/plain": [
       "(64, 15)"
      ]
     },
     "execution_count": 15,
     "metadata": {},
     "output_type": "execute_result"
    }
   ],
   "source": [
    "np.concatenate(actors_action, axis=1).shape"
   ]
  },
  {
   "cell_type": "code",
   "execution_count": 16,
   "id": "surface-ocean",
   "metadata": {},
   "outputs": [
    {
     "data": {
      "text/plain": [
       "<tf.Tensor: shape=(64, 1), dtype=float32, numpy=\n",
       "array([[-4.7636404 ],\n",
       "       [-6.28298   ],\n",
       "       [-6.66727   ],\n",
       "       [-4.9551125 ],\n",
       "       [-3.250637  ],\n",
       "       [-8.474953  ],\n",
       "       [-3.1774144 ],\n",
       "       [-3.3704672 ],\n",
       "       [-1.4903333 ],\n",
       "       [-8.756027  ],\n",
       "       [-3.508485  ],\n",
       "       [-6.5711966 ],\n",
       "       [-3.5904212 ],\n",
       "       [-8.568591  ],\n",
       "       [-0.98046714],\n",
       "       [-1.7612805 ],\n",
       "       [-2.4080536 ],\n",
       "       [-8.002979  ],\n",
       "       [-2.4860454 ],\n",
       "       [-5.808099  ],\n",
       "       [-7.3356767 ],\n",
       "       [-4.280472  ],\n",
       "       [-3.0281017 ],\n",
       "       [-2.278727  ],\n",
       "       [-8.381312  ],\n",
       "       [-3.9159412 ],\n",
       "       [-2.7959354 ],\n",
       "       [-1.0576344 ],\n",
       "       [-0.9235202 ],\n",
       "       [-1.2391566 ],\n",
       "       [-1.9515522 ],\n",
       "       [-3.8342366 ],\n",
       "       [-2.210513  ],\n",
       "       [-7.4310045 ],\n",
       "       [-0.8963884 ],\n",
       "       [-2.3456807 ],\n",
       "       [-2.5644724 ],\n",
       "       [-4.003454  ],\n",
       "       [-1.6751487 ],\n",
       "       [-5.5269833 ],\n",
       "       [-8.943575  ],\n",
       "       [-3.7526863 ],\n",
       "       [-4.5711875 ],\n",
       "       [-5.2418747 ],\n",
       "       [-0.88052654],\n",
       "       [-2.0586896 ],\n",
       "       [-9.319851  ],\n",
       "       [-4.1875997 ],\n",
       "       [-2.7180912 ],\n",
       "       [-1.583564  ],\n",
       "       [-9.037351  ],\n",
       "       [-7.7169924 ],\n",
       "       [-5.7151957 ],\n",
       "       [-7.240347  ],\n",
       "       [-7.8123207 ],\n",
       "       [-3.103837  ],\n",
       "       [-5.902146  ],\n",
       "       [-7.621662  ],\n",
       "       [-6.379053  ],\n",
       "       [-1.1467723 ],\n",
       "       [-6.4751244 ],\n",
       "       [-8.662252  ],\n",
       "       [-7.526334  ],\n",
       "       [-4.4742007 ]], dtype=float32)>"
      ]
     },
     "execution_count": 16,
     "metadata": {},
     "output_type": "execute_result"
    }
   ],
   "source": [
    "critic(state, np.concatenate(actors_action, axis=1))"
   ]
  },
  {
   "cell_type": "code",
   "execution_count": 17,
   "id": "reflected-wright",
   "metadata": {},
   "outputs": [
    {
     "data": {
      "text/plain": [
       "5"
      ]
     },
     "execution_count": 17,
     "metadata": {},
     "output_type": "execute_result"
    }
   ],
   "source": [
    "env.action_space[0].n"
   ]
  },
  {
   "cell_type": "code",
   "execution_count": 18,
   "id": "abroad-powder",
   "metadata": {},
   "outputs": [],
   "source": [
    "actor = Actor(\"actor\", env.action_space[0].n)"
   ]
  },
  {
   "cell_type": "code",
   "execution_count": 19,
   "id": "backed-favor",
   "metadata": {},
   "outputs": [
    {
     "data": {
      "text/plain": [
       "<tf.Tensor: shape=(64, 5), dtype=float32, numpy=\n",
       "array([[0.47622827, 0.11387476, 0.5037373 , 0.26783657, 0.68668276],\n",
       "       [0.47678116, 0.06080547, 0.5016193 , 0.2108672 , 0.7398893 ],\n",
       "       [0.47717306, 0.05175623, 0.5005966 , 0.19808608, 0.75218403],\n",
       "       [0.4758508 , 0.10545298, 0.50425446, 0.26023132, 0.69354343],\n",
       "       [0.48342675, 0.22470403, 0.49762863, 0.34619972, 0.61740595],\n",
       "       [0.47997385, 0.02366257, 0.4958104 , 0.14463973, 0.8049794 ],\n",
       "       [0.48375463, 0.23252124, 0.4968544 , 0.35085416, 0.6135457 ],\n",
       "       [0.4827053 , 0.20905048, 0.49864933, 0.33722255, 0.6257168 ],\n",
       "       [0.52314854, 0.41540718, 0.49016726, 0.4589412 , 0.5287641 ],\n",
       "       [0.4806851 , 0.0208607 , 0.49505585, 0.13721904, 0.81244516],\n",
       "       [0.48199058, 0.19410524, 0.49940678, 0.3284037 , 0.6342562 ],\n",
       "       [0.47707513, 0.05389142, 0.5008522 , 0.20122573, 0.7491473 ],\n",
       "       [0.4816332 , 0.18694258, 0.49978557, 0.3240387 , 0.6384948 ],\n",
       "       [0.480211  , 0.02269006, 0.49555916, 0.14212975, 0.8074927 ],\n",
       "       [0.53452766, 0.48288354, 0.4842339 , 0.4800957 , 0.53121614],\n",
       "       [0.50813   , 0.3760086 , 0.4918229 , 0.44560376, 0.5384866 ],\n",
       "       [0.49119285, 0.31220526, 0.48725083, 0.40013057, 0.5694095 ],\n",
       "       [0.47878942, 0.0291678 , 0.4970678 , 0.15774494, 0.7920406 ],\n",
       "       [0.49093825, 0.30403638, 0.4884188 , 0.39524406, 0.5744671 ],\n",
       "       [0.47629142, 0.07419696, 0.50289786, 0.22767898, 0.72397536],\n",
       "       [0.47785902, 0.03890938, 0.49880642, 0.17714095, 0.7727444 ],\n",
       "       [0.47869235, 0.13815895, 0.50274616, 0.28857797, 0.66974485],\n",
       "       [0.4843665 , 0.24842373, 0.4954072 , 0.3601638 , 0.6056436 ],\n",
       "       [0.4913318 , 0.3280787 , 0.48729512, 0.40935698, 0.5587946 ],\n",
       "       [0.47973728, 0.02467582, 0.4960619 , 0.14718631, 0.80244124],\n",
       "       [0.48017174, 0.16063896, 0.50114954, 0.306661  , 0.6552554 ],\n",
       "       [0.4870241 , 0.2720194 , 0.49249864, 0.3745288 , 0.59329283],\n",
       "       [0.53402424, 0.47391906, 0.48503262, 0.47792917, 0.5266537 ],\n",
       "       [0.5329961 , 0.4878585 , 0.4842189 , 0.48309395, 0.5364299 ],\n",
       "       [0.5317783 , 0.45309103, 0.4876124 , 0.4729909 , 0.5216423 ],\n",
       "       [0.5012121 , 0.35808715, 0.48944622, 0.43227375, 0.54347026],\n",
       "       [0.48053873, 0.16682103, 0.5007992 , 0.31105796, 0.65115577],\n",
       "       [0.4934034 , 0.33506083, 0.48804197, 0.41419828, 0.55452883],\n",
       "       [0.47796476, 0.03734487, 0.49855182, 0.17428595, 0.7755791 ],\n",
       "       [0.5306253 , 0.49172288, 0.48373142, 0.4852371 , 0.54104686],\n",
       "       [0.4909496 , 0.32045937, 0.48673704, 0.40492934, 0.5641756 ],\n",
       "       [0.49010888, 0.29586965, 0.48964405, 0.39026535, 0.5794752 ],\n",
       "       [0.47995323, 0.15470898, 0.50165623, 0.30204207, 0.65900874],\n",
       "       [0.5128953 , 0.38802558, 0.49133205, 0.45077562, 0.5345799 ],\n",
       "       [0.47607335, 0.08349836, 0.503537  , 0.23817942, 0.7141646 ],\n",
       "       [0.4811493 , 0.01918051, 0.4945168 , 0.13246942, 0.81726515],\n",
       "       [0.48091844, 0.1732314 , 0.50054306, 0.3154004 , 0.6469072 ],\n",
       "       [0.4771589 , 0.12308151, 0.50336176, 0.27592963, 0.67983174],\n",
       "       [0.47589722, 0.09385502, 0.50410616, 0.24899063, 0.70415974],\n",
       "       [0.52530706, 0.49506798, 0.4824081 , 0.48575655, 0.5426169 ],\n",
       "       [0.49866787, 0.34997654, 0.4891099 , 0.42590162, 0.5464128 ],\n",
       "       [0.48206955, 0.01621172, 0.49340913, 0.1234014 , 0.8265891 ],\n",
       "       [0.47941828, 0.1435323 , 0.5023444 , 0.2928801 , 0.66632056],\n",
       "       [0.48804253, 0.27981925, 0.49156314, 0.379533  , 0.588986  ],\n",
       "       [0.517346  , 0.40164515, 0.4912108 , 0.45511553, 0.5316627 ],\n",
       "       [0.48137933, 0.01839173, 0.49423978, 0.13015082, 0.819632  ],\n",
       "       [0.47835016, 0.03301057, 0.49779683, 0.16586313, 0.78391635],\n",
       "       [0.47619337, 0.07718262, 0.5031536 , 0.23115245, 0.7207211 ],\n",
       "       [0.4777611 , 0.04053724, 0.49906215, 0.18002316, 0.76988226],\n",
       "       [0.47847843, 0.03167677, 0.49754533, 0.16312897, 0.7866451 ],\n",
       "       [0.4840644 , 0.2404471 , 0.4961523 , 0.35554206, 0.6095849 ],\n",
       "       [0.47638926, 0.07131791, 0.5026421 , 0.22424242, 0.7272058 ],\n",
       "       [0.47822168, 0.03439844, 0.4980487 , 0.16863394, 0.78116244],\n",
       "       [0.47687924, 0.05841324, 0.50136364, 0.20761621, 0.7429998 ],\n",
       "       [0.5329377 , 0.46448335, 0.48562068, 0.47678974, 0.52341175],\n",
       "       [0.47697723, 0.05610955, 0.50110775, 0.20440245, 0.7460859 ],\n",
       "       [0.48044837, 0.02175662, 0.49530715, 0.13965634, 0.8099812 ],\n",
       "       [0.47809315, 0.03584245, 0.49830022, 0.17144147, 0.7783834 ],\n",
       "       [0.47767758, 0.12791112, 0.50325304, 0.28008592, 0.67646646]],\n",
       "      dtype=float32)>"
      ]
     },
     "execution_count": 19,
     "metadata": {},
     "output_type": "execute_result"
    }
   ],
   "source": [
    "actor(actors_state[0])"
   ]
  },
  {
   "cell_type": "code",
   "execution_count": null,
   "id": "brilliant-copyright",
   "metadata": {},
   "outputs": [],
   "source": []
  }
 ],
 "metadata": {
  "kernelspec": {
   "display_name": "Python 3",
   "language": "python",
   "name": "python3"
  },
  "language_info": {
   "codemirror_mode": {
    "name": "ipython",
    "version": 3
   },
   "file_extension": ".py",
   "mimetype": "text/x-python",
   "name": "python",
   "nbconvert_exporter": "python",
   "pygments_lexer": "ipython3",
   "version": "3.8.8"
  }
 },
 "nbformat": 4,
 "nbformat_minor": 5
}
